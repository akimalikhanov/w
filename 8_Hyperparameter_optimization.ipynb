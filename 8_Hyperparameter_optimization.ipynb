{
 "cells": [
  {
   "cell_type": "code",
   "execution_count": 3,
   "id": "b5a4b569",
   "metadata": {},
   "outputs": [
    {
     "name": "stdout",
     "output_type": "stream",
     "text": [
      "Best Score: 0.8885\n",
      "\tcriterion: entropy\n",
      "\tmax_depth: 15\n",
      "\tn_estimators: 300\n"
     ]
    }
   ],
   "source": [
    "import numpy as np\n",
    "import pandas as pd\n",
    "from sklearn import metrics, ensemble, model_selection\n",
    "\n",
    "if __name__=='__main__':\n",
    "    df=pd.read_csv('mobile_train.csv')\n",
    "    X, y=df.drop('price_range', axis=1), df['price_range'].values\n",
    "    clf=ensemble.RandomForestClassifier(n_jobs=-1)\n",
    "    param_grid={\"n_estimators\": [100, 200, 250, 300, 400, 500],\n",
    "                \"max_depth\": [1, 2, 5, 7, 11, 15],\n",
    "                \"criterion\": [\"gini\", \"entropy\"]}\n",
    "    \n",
    "    model=model_selection.GridSearchCV(\n",
    "        estimator=clf,\n",
    "        param_grid=param_grid,\n",
    "        scoring='accuracy',\n",
    "        n_jobs=-1,\n",
    "        cv=5)\n",
    "    model.fit(X, y)\n",
    "    \n",
    "    print(f'Best Score: {model.best_score_}')\n",
    "    best_parameters = model.best_estimator_.get_params()\n",
    "    for param_name in sorted(param_grid.keys()):\n",
    "        print(f\"\\t{param_name}: {best_parameters[param_name]}\")"
   ]
  },
  {
   "cell_type": "code",
   "execution_count": 6,
   "id": "c9a6a3af",
   "metadata": {},
   "outputs": [
    {
     "name": "stdout",
     "output_type": "stream",
     "text": [
      "Best Score: 0.8875\n",
      "\tcriterion: entropy\n",
      "\tmax_depth: 16\n",
      "\tn_estimators: 400\n"
     ]
    }
   ],
   "source": [
    "import numpy as np\n",
    "import pandas as pd\n",
    "from sklearn import metrics, ensemble, model_selection\n",
    "\n",
    "if __name__=='__main__':\n",
    "    df=pd.read_csv('mobile_train.csv')\n",
    "    X, y=df.drop('price_range', axis=1), df['price_range'].values\n",
    "    clf=ensemble.RandomForestClassifier(n_jobs=-1)\n",
    "    param_grid={\"n_estimators\": np.arange(100, 1500, 100),\n",
    "                \"max_depth\": np.arange(1, 31),\n",
    "                \"criterion\": [\"gini\", \"entropy\"]}\n",
    "    \n",
    "    model=model_selection.RandomizedSearchCV(\n",
    "        estimator=clf,\n",
    "        n_iter=30,\n",
    "        param_distributions=param_grid,\n",
    "        scoring='accuracy',\n",
    "        n_jobs=-1,\n",
    "        cv=5)\n",
    "    model.fit(X, y)\n",
    "    \n",
    "    print(f'Best Score: {model.best_score_}')\n",
    "    best_parameters = model.best_estimator_.get_params()\n",
    "    for param_name in sorted(param_grid.keys()):\n",
    "        print(f\"\\t{param_name}: {best_parameters[param_name]}\")"
   ]
  },
  {
   "cell_type": "code",
   "execution_count": 18,
   "id": "76ef7407",
   "metadata": {
    "scrolled": true
   },
   "outputs": [
    {
     "name": "stdout",
     "output_type": "stream",
     "text": [
      "Iteration No: 1 started. Evaluating function at random point.\n",
      "Iteration No: 1 ended. Evaluation done at random point.\n",
      "Time taken: 25.5554\n",
      "Function value obtained: -0.8855\n",
      "Current minimum: -0.8855\n",
      "Iteration No: 2 started. Evaluating function at random point.\n",
      "Iteration No: 2 ended. Evaluation done at random point.\n",
      "Time taken: 11.9977\n",
      "Function value obtained: -0.8695\n",
      "Current minimum: -0.8855\n",
      "Iteration No: 3 started. Evaluating function at random point.\n",
      "Iteration No: 3 ended. Evaluation done at random point.\n",
      "Time taken: 4.6030\n",
      "Function value obtained: -0.8625\n",
      "Current minimum: -0.8855\n",
      "Iteration No: 4 started. Evaluating function at random point.\n",
      "Iteration No: 4 ended. Evaluation done at random point.\n",
      "Time taken: 1.0255\n",
      "Function value obtained: -0.7750\n",
      "Current minimum: -0.8855\n",
      "Iteration No: 5 started. Evaluating function at random point.\n",
      "Iteration No: 5 ended. Evaluation done at random point.\n",
      "Time taken: 18.2984\n",
      "Function value obtained: -0.8380\n",
      "Current minimum: -0.8855\n",
      "Iteration No: 6 started. Evaluating function at random point.\n",
      "Iteration No: 6 ended. Evaluation done at random point.\n",
      "Time taken: 11.9051\n",
      "Function value obtained: -0.8995\n",
      "Current minimum: -0.8995\n",
      "Iteration No: 7 started. Evaluating function at random point.\n",
      "Iteration No: 7 ended. Evaluation done at random point.\n",
      "Time taken: 22.8656\n",
      "Function value obtained: -0.8505\n",
      "Current minimum: -0.8995\n",
      "Iteration No: 8 started. Evaluating function at random point.\n",
      "Iteration No: 8 ended. Evaluation done at random point.\n",
      "Time taken: 18.2185\n",
      "Function value obtained: -0.8580\n",
      "Current minimum: -0.8995\n",
      "Iteration No: 9 started. Evaluating function at random point.\n",
      "Iteration No: 9 ended. Evaluation done at random point.\n",
      "Time taken: 33.0065\n",
      "Function value obtained: -0.9080\n",
      "Current minimum: -0.9080\n",
      "Iteration No: 10 started. Evaluating function at random point.\n",
      "Iteration No: 10 ended. Evaluation done at random point.\n",
      "Time taken: 28.6269\n",
      "Function value obtained: -0.8970\n",
      "Current minimum: -0.9080\n",
      "Iteration No: 11 started. Searching for the next optimal point.\n",
      "Iteration No: 11 ended. Search finished for the next optimal point.\n",
      "Time taken: 48.2173\n",
      "Function value obtained: -0.9075\n",
      "Current minimum: -0.9080\n",
      "Iteration No: 12 started. Searching for the next optimal point.\n",
      "Iteration No: 12 ended. Search finished for the next optimal point.\n",
      "Time taken: 31.6679\n",
      "Function value obtained: -0.9040\n",
      "Current minimum: -0.9080\n",
      "Iteration No: 13 started. Searching for the next optimal point.\n",
      "Iteration No: 13 ended. Search finished for the next optimal point.\n",
      "Time taken: 66.4022\n",
      "Function value obtained: -0.9045\n",
      "Current minimum: -0.9080\n",
      "Iteration No: 14 started. Searching for the next optimal point.\n",
      "Iteration No: 14 ended. Search finished for the next optimal point.\n",
      "Time taken: 37.4368\n",
      "Function value obtained: -0.8890\n",
      "Current minimum: -0.9080\n",
      "Iteration No: 15 started. Searching for the next optimal point.\n",
      "Iteration No: 15 ended. Search finished for the next optimal point.\n",
      "Time taken: 54.9136\n",
      "Function value obtained: -0.9095\n",
      "Current minimum: -0.9095\n",
      "{'max_depth': 13, 'n_estimators': 1500, 'criterion': 'entropy', 'max_features': 0.7322586967296625}\n"
     ]
    }
   ],
   "source": [
    "from functools import partial\n",
    "from sklearn import ensemble, metrics, model_selection\n",
    "from skopt import gp_minimize, space\n",
    "\n",
    "def optimize(params, param_names, x, y):\n",
    "    params=dict(zip(param_names, params))\n",
    "    model=ensemble.RandomForestClassifier(**params)\n",
    "    kf=model_selection.StratifiedKFold(5)\n",
    "    acc_list=[]\n",
    "    for tr, val in kf.split(X=x, y=y):\n",
    "        xtrain, xtest, ytrain, ytest=x.iloc[tr, :], x.iloc[val, :], y[tr], y[val]\n",
    "        model.fit(xtrain, ytrain)\n",
    "        preds=model.predict(xtest)\n",
    "        acc_list.append(metrics.accuracy_score(ytest, preds))\n",
    "    return -1*np.mean(acc_list)\n",
    "\n",
    "if __name__=='__main__':\n",
    "    df=pd.read_csv('mobile_train.csv')\n",
    "    X, y=df.drop('price_range', axis=1), df['price_range'].values\n",
    "    param_space=[\n",
    "        space.Integer(3, 15, name='max_depth'),\n",
    "        space.Integer(100, 1500, name='n_estimators'),\n",
    "        space.Categorical(['gini', 'entropy'], name='criterion'),\n",
    "        space.Real(.01, 1, prior='uniform', name='max_features')\n",
    "    ]\n",
    "    \n",
    "    param_names=[\"max_depth\", \"n_estimators\", \"criterion\", \"max_features\"]\n",
    "    \n",
    "    opt_func=partial(optimize, param_names=param_names, x=X, y=y)\n",
    "    res=gp_minimize(opt_func, dimensions=param_space, n_calls=15, n_initial_points=10, verbose=10)\n",
    "    \n",
    "    best_params=dict(zip(param_names, res.x))\n",
    "    print(best_params)"
   ]
  },
  {
   "cell_type": "code",
   "execution_count": 20,
   "id": "4f039665",
   "metadata": {},
   "outputs": [
    {
     "data": {
      "image/png": "[encoded data removed]",
      "text/plain": [
       "<Figure size 640x480 with 1 Axes>"
      ]
     },
     "metadata": {},
     "output_type": "display_data"
    }
   ],
   "source": [
    "from skopt.plots import plot_convergence\n",
    "\n",
    "plot_convergence(res);"
   ]
  },
  {
   "cell_type": "code",
   "execution_count": 26,
   "id": "5453f18c",
   "metadata": {},
   "outputs": [
    {
     "name": "stdout",
     "output_type": "stream",
     "text": [
      "100%|███████████████████████████████████████████████████████████| 15/15 [02:52<00:00, 11.51s/trial, best loss: -0.9055]\n",
      "{'criterion': 1, 'max_depth': 13.0, 'max_features': 0.8214311594192648, 'n_estimators': 1416.0}\n"
     ]
    }
   ],
   "source": [
    "from functools import partial\n",
    "from sklearn import ensemble, metrics, model_selection\n",
    "from hyperopt import hp, fmin, tpe, Trials\n",
    "from hyperopt.pyll.base import scope\n",
    "\n",
    "\n",
    "def optimize(params, x, y):\n",
    "    model=ensemble.RandomForestClassifier(**params)\n",
    "    kf=model_selection.StratifiedKFold(5)\n",
    "    acc_list=[]\n",
    "    for tr, val in kf.split(X=x, y=y):\n",
    "        xtrain, xtest, ytrain, ytest=x.iloc[tr, :], x.iloc[val, :], y[tr], y[val]\n",
    "        model.fit(xtrain, ytrain)\n",
    "        preds=model.predict(xtest)\n",
    "        acc_list.append(metrics.accuracy_score(ytest, preds))\n",
    "    return -1*np.mean(acc_list)\n",
    "\n",
    "if __name__=='__main__':\n",
    "    df=pd.read_csv('mobile_train.csv')\n",
    "    X, y=df.drop('price_range', axis=1), df['price_range'].values\n",
    "    param_space={\n",
    "        'max_depth': scope.int(hp.quniform('max_depth', 1, 15, 1)),\n",
    "        'n_estimators': scope.int(hp.quniform('n_estimators', 100, 1500, 1)),\n",
    "        'criterion': hp.choice('criterion', ['gini', 'entropy']),\n",
    "        'max_features': hp.uniform('max_features', 0, 1)\n",
    "    }\n",
    "        \n",
    "    opt_func=partial(optimize, x=X, y=y)\n",
    "    trials=Trials()\n",
    "    hopt=fmin(\n",
    "        fn=opt_func,\n",
    "        space=param_space,\n",
    "        algo=tpe.suggest,\n",
    "        max_evals=15,\n",
    "        trials=trials\n",
    "    )\n",
    "    print(hopt)"
   ]
  },
  {
   "cell_type": "code",
   "execution_count": null,
   "id": "067c3ad3",
   "metadata": {},
   "outputs": [],
   "source": []
  }
 ],
 "metadata": {
  "kernelspec": {
   "display_name": "Python 3 (ipykernel)",
   "language": "python",
   "name": "python3"
  },
  "language_info": {
   "codemirror_mode": {
    "name": "ipython",
    "version": 3
   },
   "file_extension": ".py",
   "mimetype": "text/x-python",
   "name": "python",
   "nbconvert_exporter": "python",
   "pygments_lexer": "ipython3",
   "version": "3.9.12"
  }
 },
 "nbformat": 4,
 "nbformat_minor": 5
}

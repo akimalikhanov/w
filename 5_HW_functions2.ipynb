{
 "cells": [
  {
   "cell_type": "markdown",
   "id": "0542b578",
   "metadata": {},
   "source": [
    "# Sual 1"
   ]
  },
  {
   "cell_type": "markdown",
   "id": "d7ef31e9",
   "metadata": {},
   "source": [
    "Bir şəxsin qeydini dictionary şəklində götürən funksiyanı yazın. Qeyddə şəxsin adı, soyadı, yaşı, şəhəri olmalıdır. Default ad, soyad, yaş, şəhəri də müəyyənləşdirin. İstifadəçi dəyərləri özü yazmırsa, onlar istifadə olunacaq. Nümunə: \\\n",
    "func(name='John', surname='Joe', city='Madrid')-->{'name': 'John', 'surname': 'Joe', 'age': 20, 'city': 'Madrid'}\\\n",
    "istifadəçi 'age' yazmadı, lakin defaut dəyər (20) istifadə olunub."
   ]
  },
  {
   "cell_type": "code",
   "execution_count": 10,
   "id": "658a1ee5",
   "metadata": {},
   "outputs": [],
   "source": [
    "def get_person_record(name='John', surname='Doe', age=20, city='Unknown'):\n",
    "    person_dict = {\n",
    "        'name': name,\n",
    "        'surname': surname,\n",
    "        'age': age,\n",
    "        'city': city\n",
    "    }\n",
    "    return person_dict"
   ]
  },
  {
   "cell_type": "markdown",
   "id": "7cab7d35",
   "metadata": {},
   "source": [
    "# Sual 2"
   ]
  },
  {
   "cell_type": "markdown",
   "id": "cbbcf229",
   "metadata": {},
   "source": [
    "Əvvəlki sualdakı funksiyadan istifadə edərək bir neçə şəxsin qeydini yaradacaq  funksiyanı yazın və person_id: record_dict şəklində dictionary-də saxlayın (bunu db_dict adlandıraq). Adlar, soyadlar, yaşlar, və s. list-lər şəklində funksiyaya daxil edilməlidir. person_id unikal olmalıdır, eyni person_id ilə 2 nəfər olmamalıdır. Sonda db_dict-i qaytarın Nümunə: \\\n",
    "names=['Alex', 'Matt', 'Amy']\\\n",
    "surnames=['Smith', 'Stone', 'Adams']\\\n",
    "ages=[21, 44, 32]\\\n",
    "cities=['Madrid', 'Oslo', 'Berlin']\n",
    "\n",
    "func(names, surnames, ages, cities)-->\\\n",
    "{\\\n",
    "    1: {'name': 'Alex', 'surname': 'Smith', 'age': 21, 'city': 'Madrid'},\\\n",
    "    2: {'name': 'Matt', 'surname': 'Stone', 'age': 44, 'city': 'Oslo'},\\\n",
    "    3: {'name': 'Amy', 'surname': 'Adams', 'age': 32, 'city': 'Berlin'}\\\n",
    "}\n"
   ]
  },
  {
   "cell_type": "code",
   "execution_count": 11,
   "id": "be20483f",
   "metadata": {},
   "outputs": [
    {
     "name": "stdout",
     "output_type": "stream",
     "text": [
      "{-5252996382790013917: {'name': 'Alex', 'surname': 'Smith', 'age': 21, 'city': 'Madrid'}, -2714813400930869889: {'name': 'Matt', 'surname': 'Stone', 'age': 44, 'city': 'Oslo'}, 3652090177789585189: {'name': 'Amy', 'surname': 'Adams', 'age': 32, 'city': 'Berlin'}}\n"
     ]
    }
   ],
   "source": [
    "def create_person_db(firstnames:str, lastnames:str, ages:int, cities:str)->dict:\n",
    "    db_dict = {}\n",
    "    for i, firstname in enumerate(firstnames):\n",
    "        person_record = get_person_record(firstname, lastnames[i], ages[i], cities[i])\n",
    "        person_id = hash(firstname + lastnames[i] + str(ages[i]) + cities[i])\n",
    "        while person_id in db_dict:\n",
    "            person_id += 1\n",
    "        db_dict[person_id] = person_record\n",
    "    return db_dict\n",
    "\n",
    "\n",
    "\n",
    "names = ['Alex', 'Matt', 'Amy']\n",
    "lastnames = ['Smith', 'Stone', 'Adams']\n",
    "ages = [21, 44, 32]\n",
    "cities = ['Madrid', 'Oslo', 'Berlin']\n",
    "\n",
    "person_db = create_person_db(names, lastnames, ages, cities)\n",
    "print(person_db)"
   ]
  },
  {
   "cell_type": "markdown",
   "id": "10b8e806",
   "metadata": {},
   "source": [
    "# Sual 3"
   ]
  },
  {
   "cell_type": "markdown",
   "id": "59169dc0",
   "metadata": {},
   "source": [
    "Istənilən sayda siyahı götürən  götürən (2,3,4 və s.) və bu verilmiş siyahılardan dəyərlərin bütün mümkün kombinasiyalarının listi yaradan funksiya yazın. Qaytarmadan əvvəl təsadüfi olaraq listi qarışdırın. Həmçinin kombinasiyaların sayını print etməlidir Nümunə: \\\n",
    "list1=[55, 86, 41, 77]\\\n",
    "list2=['a', 'b', 'c']\\\n",
    "list3=['x', 'y', 'z']\\\n",
    "\n",
    "func(list1, list2, list3)-->\\\n",
    "There are 36 combinations\\\n",
    "[(55, 'b', 'z'),\\\n",
    " (41, 'c', 'z'),\\\n",
    " (77, 'a', 'y'),\\\n",
    " ...\\\n",
    " (77, 'c', 'x'),\\\n",
    " (41, 'b', 'x'),\\\n",
    " (77, 'c', 'y')]\\\n",
    " \n",
    " \n",
    "func(list1, list2)-->\\\n",
    "There are 12 combinations\\"
   ]
  },
  {
   "cell_type": "code",
   "execution_count": 24,
   "id": "3e87bd79",
   "metadata": {},
   "outputs": [
    {
     "name": "stdout",
     "output_type": "stream",
     "text": [
      "There are 12 combinations\n"
     ]
    }
   ],
   "source": [
    "from itertools import product\n",
    "from random import shuffle\n",
    "\n",
    "def all_possible_pairs(*lists):\n",
    "    pairs = list(product(*lists))\n",
    "    print(f'There are {len(pairs)} combinations')\n",
    "    shuffle(pairs)\n",
    "    return pairs\n",
    "\n",
    "list1=[55, 86, 41, 77]\n",
    "list2=['a', 'b', 'c']\n",
    "list3=['x', 'y', 'z']\n",
    "\n",
    "pairs_combinations = all_possible_pairs(list1, list2)"
   ]
  },
  {
   "cell_type": "markdown",
   "id": "a8d752ed",
   "metadata": {},
   "source": [
    "# Sual 4"
   ]
  },
  {
   "cell_type": "markdown",
   "id": "9762203f",
   "metadata": {},
   "source": [
    "String formatında tarix götürəcək funksiyanı yazın (məsələn, \"22 may 2023\") və verilmiş və cari tarix arasında il-ay-gün formatında fərqi tapın.  Nümunə: \\\n",
    "date_str=\"22 May 2023\"\\\n",
    "func(date_str)-->'Difference between 2023-05-22 and today: 0 years, 2 months, 17 days'"
   ]
  },
  {
   "cell_type": "code",
   "execution_count": 37,
   "id": "d269cc22",
   "metadata": {},
   "outputs": [
    {
     "data": {
      "text/plain": [
       "'Difference between 2023-05-22 and today: 0 years, 2 months, 17 days'"
      ]
     },
     "execution_count": 37,
     "metadata": {},
     "output_type": "execute_result"
    }
   ],
   "source": [
    "from datetime import datetime\n",
    "\n",
    "def date_difference(date_str):\n",
    "    given_date = datetime.strptime(date_str, \"%d %b %Y\")\n",
    "    current_date = datetime.now()\n",
    "    delta = current_date - given_date\n",
    "\n",
    "    years = delta.days // 365\n",
    "    remaining_days = delta.days % 365\n",
    "    months = remaining_days // 30\n",
    "    days = remaining_days % 30\n",
    "\n",
    "    return f\"Difference between {given_date.date()} and today: {years} years, {months} months, {days} days\"\n",
    "\n",
    "\n",
    "date_str=\"22 May 2023\"\n",
    "date_difference(date_str)"
   ]
  },
  {
   "cell_type": "markdown",
   "id": "23963ef1",
   "metadata": {},
   "source": [
    "# Sual 5"
   ]
  },
  {
   "cell_type": "markdown",
   "id": "2988ccae",
   "metadata": {},
   "source": [
    "Radius verilmiş çevrənin diametrini, çevrəsini (circumference) və sahəsini (area) hesablayacaq funksiyanı yazın. pi dəqiq olmalıdır (sadəcə istifadəçi tərəfindən 3.14 kimi müəyyən edilməmişdir)"
   ]
  },
  {
   "cell_type": "code",
   "execution_count": 39,
   "id": "875ddf7a",
   "metadata": {},
   "outputs": [
    {
     "data": {
      "text/plain": [
       "(31.41592653589793, 78.53981633974483, 10)"
      ]
     },
     "execution_count": 39,
     "metadata": {},
     "output_type": "execute_result"
    }
   ],
   "source": [
    "import math\n",
    "\n",
    "def circle_properties(radius):\n",
    "    circumference = 2 * math.pi * radius\n",
    "    area = math.pi * radius ** 2\n",
    "    diameter=2*radius\n",
    "    return circumference, area, diameter\n",
    "\n",
    "circle_properties(5)"
   ]
  },
  {
   "cell_type": "markdown",
   "id": "5b3fe232",
   "metadata": {},
   "source": [
    "# Sual 6"
   ]
  },
  {
   "cell_type": "markdown",
   "id": "a520855c",
   "metadata": {},
   "source": [
    "İnput kimi bucağın dərəcələrini qəbul edən və bucağın sinus, kosinus və tangens qiymətlərini hesablayıb qaytaran funksiyanı yazın."
   ]
  },
  {
   "cell_type": "code",
   "execution_count": null,
   "id": "7ff770ef",
   "metadata": {},
   "outputs": [],
   "source": [
    "import math\n",
    "\n",
    "def calculate_trig_values(angle_degrees):\n",
    "    angle_radians = math.radians(angle_degrees)\n",
    "    sine_value = math.sin(angle_radians)\n",
    "    cosine_value = math.cos(angle_radians)\n",
    "    tangent_value = math.tan(angle_radians)\n",
    "    return sine_value, cosine_value, tangent_value"
   ]
  },
  {
   "cell_type": "markdown",
   "id": "49e20e65",
   "metadata": {},
   "source": [
    "# Sual 7"
   ]
  },
  {
   "cell_type": "markdown",
   "id": "43fe5ed6",
   "metadata": {},
   "source": [
    "Giriş kimi directory_path götürən və həmin directory-də olan bütün fayl adlarını list-də qaytaran  funksiya yazın. Əgər kataloq mövcud deyilsə, funksiya \"Directory {directory_path} does not exist.\" print etməlidir. Nümunə: \\\n",
    "func('/path/to/directory')-->['file1.py', 'file2.txt', 'file3.xlsx']"
   ]
  },
  {
   "cell_type": "code",
   "execution_count": 43,
   "id": "0ef6c627",
   "metadata": {},
   "outputs": [],
   "source": [
    "import os\n",
    "\n",
    "def list_files_in_directory(directory_path):\n",
    "    if not os.path.exists(directory_path):\n",
    "        print(f\"Directory '{directory_path}' does not exist.\")\n",
    "        return\n",
    "\n",
    "    file_list = os.listdir(directory_path)\n",
    "    return file_list"
   ]
  }
 ],
 "metadata": {
  "kernelspec": {
   "display_name": "Python 3 (ipykernel)",
   "language": "python",
   "name": "python3"
  },
  "language_info": {
   "codemirror_mode": {
    "name": "ipython",
    "version": 3
   },
   "file_extension": ".py",
   "mimetype": "text/x-python",
   "name": "python",
   "nbconvert_exporter": "python",
   "pygments_lexer": "ipython3",
   "version": "3.9.12"
  }
 },
 "nbformat": 4,
 "nbformat_minor": 5
}

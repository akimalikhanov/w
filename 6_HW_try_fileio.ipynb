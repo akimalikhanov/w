{
 "cells": [
  {
   "cell_type": "markdown",
   "id": "5674db9f",
   "metadata": {},
   "source": [
    "# Sual 1"
   ]
  },
  {
   "cell_type": "markdown",
   "id": "06e6bc45",
   "metadata": {},
   "source": [
    "Input kimi file_path götürən və nums.txt faylından bir sıra nömrələri oxuyan funksiya yazın. Funksiya hər sətri oxumalı, nömrəni floata çevirməli və fayldakı bütün nömrələri cəmləməlidir. Fayldakı hər hansı bir sətirdə qeyri-rəqəmsal məlumatlar varsa, funksiya həmin sətri keçməli və qalan nömrələri oxumağa davam etməlidir. Funksiya fayldakı bütün etibarlı nömrələrin cəmini qaytarmalıdır."
   ]
  },
  {
   "cell_type": "code",
   "execution_count": 7,
   "id": "3de94fc9",
   "metadata": {},
   "outputs": [
    {
     "data": {
      "text/plain": [
       "21.5"
      ]
     },
     "execution_count": 7,
     "metadata": {},
     "output_type": "execute_result"
    }
   ],
   "source": [
    "def sum_numbers_from_file(file_path):\n",
    "    total_sum = 0\n",
    "\n",
    "    try:\n",
    "        with open(file_path, 'r') as file:\n",
    "            for line in file:\n",
    "                try:\n",
    "                    number = float(line.strip())\n",
    "                    total_sum += number\n",
    "                except ValueError:\n",
    "                    pass\n",
    "\n",
    "    except FileNotFoundError:\n",
    "        print(f\"Error: File '{file_path}' not found.\")\n",
    "        return None\n",
    "\n",
    "    return total_sum\n",
    "\n",
    "file_path = \"nums.txt\"  # Replace this with the actual file path\n",
    "sum_numbers_from_file(file_path)"
   ]
  },
  {
   "cell_type": "markdown",
   "id": "7f8c609a",
   "metadata": {},
   "source": [
    "# Sual 2"
   ]
  },
  {
   "cell_type": "markdown",
   "id": "545367c8",
   "metadata": {},
   "source": [
    "İki ədəd listini, first_values və second_values, həmçinin giriş kimi output_file.txt götürən funksiya yazın. Funksiya baş verə biləcək hər hansı ZeroDivisionError ilə məşğul olarkən, iki giriş siyahısından müvafiq elementlərin bölünməsini hesablayır. Bölmə nəticələri results adlı listdə saxlanılır və output_file.txt-ə yazılır. Funksiya sıfıra bölünmənin baş verəcəyi istənilən cütlər üçün ZeroDivisionError-u tutur və xəbərdarlıq mesajını print edir, lakin icranı dayandırmır və qalan hesablamalarla davam edir."
   ]
  },
  {
   "cell_type": "code",
   "execution_count": 37,
   "id": "9fdf8d2b",
   "metadata": {},
   "outputs": [
    {
     "name": "stdout",
     "output_type": "stream",
     "text": [
      "Warning: Division by zero encountered for 30/0. Skipping.\n"
     ]
    }
   ],
   "source": [
    "def safe_division(first_values, second_values, output_file):\n",
    "    results = []\n",
    "    for first, second in zip(first_values, second_values):\n",
    "        try:\n",
    "            result = first / second\n",
    "            results.append(result)\n",
    "        except ZeroDivisionError:\n",
    "            print(f\"Warning: Division by zero encountered for {first}/{second}. Skipping.\")\n",
    "\n",
    "    with open(output_file, 'w') as file:\n",
    "        for result in results:\n",
    "            file.write(f\"{result}\\n\")\n",
    "            \n",
    "first_values = [10, 20, 30, 40]\n",
    "second_values = [2, 5, 0, 4]\n",
    "output_file = \"results.txt\"\n",
    "\n",
    "safe_division(first_values, second_values, output_file)"
   ]
  },
  {
   "cell_type": "markdown",
   "id": "d274c1ae",
   "metadata": {},
   "source": [
    "# Sual 3"
   ]
  },
  {
   "cell_type": "markdown",
   "id": "947194ba",
   "metadata": {},
   "source": [
    "File_path və sətirlərin sayını n input kimi qəbul edən funksiyanı yazın. Funksiya ilk n sətri (başlıq sətiri istisna olmaqla) print etməlidir. Bundan əlavə, o, CSV faylında sətir və sütunların ümumi sayını hesablayır və print edir. Nümunə:\\\n",
    "func(file_pathç 5)-->\\\n",
    "Header: ['Date', 'Open', 'High', 'Low', 'Close', 'Adj Close', 'Volume']\\\n",
    "Row 1: ['2014-09-29', '100.589996', '100.690002', '98.040001', '99.620003', '93.514290', '142718700']\\\n",
    "Row 2: ['2014-10-06', '99.949997', '102.379997', '98.309998', '100.730003', '94.556244', '280258200']\\\n",
    "Row 3: ['2014-10-13', '101.330002', '101.779999', '95.180000', '97.669998', '91.683792', '358539800']\\\n",
    "Row 4: ['2014-10-20', '98.320000', '105.489998', '98.220001', '105.220001', '98.771042', '358532900']\\\n",
    "Row 5: ['2014-10-27', '104.849998', '108.040001', '104.699997', '108.000000', '101.380676', '220230600']\n",
    "\n",
    "Total Rows: 101\\\n",
    "Total Columns: 7"
   ]
  },
  {
   "cell_type": "code",
   "execution_count": 42,
   "id": "c6dbe029",
   "metadata": {},
   "outputs": [
    {
     "name": "stdout",
     "output_type": "stream",
     "text": [
      "Header: ['Date', 'Open', 'High', 'Low', 'Close', 'Adj Close', 'Volume']\n",
      "Row 1: ['2014-09-29', '100.589996', '100.690002', '98.040001', '99.620003', '93.514290', '142718700']\n",
      "Row 2: ['2014-10-06', '99.949997', '102.379997', '98.309998', '100.730003', '94.556244', '280258200']\n",
      "Row 3: ['2014-10-13', '101.330002', '101.779999', '95.180000', '97.669998', '91.683792', '358539800']\n",
      "Row 4: ['2014-10-20', '98.320000', '105.489998', '98.220001', '105.220001', '98.771042', '358532900']\n",
      "Row 5: ['2014-10-27', '104.849998', '108.040001', '104.699997', '108.000000', '101.380676', '220230600']\n",
      "\n",
      "Total Rows: 101\n",
      "Total Columns: 7\n"
     ]
    }
   ],
   "source": [
    "import csv\n",
    "\n",
    "def print_csv_data(file_path, n):\n",
    "    num_rows = 0\n",
    "    num_columns = 0\n",
    "\n",
    "    try:\n",
    "        with open(file_path, newline='') as csvfile:\n",
    "            reader = csv.reader(csvfile)\n",
    "            header = next(reader)  # Skip the header row\n",
    "\n",
    "            # Print the header\n",
    "            print(\"Header:\", header)\n",
    "\n",
    "            # Print the first n rows\n",
    "            for i, row in enumerate(reader, start=1):\n",
    "                if i <= n:\n",
    "                    print(f\"Row {i}: {row}\")\n",
    "                num_rows = i\n",
    "\n",
    "                # Calculate the number of columns in the file\n",
    "                num_columns = max(num_columns, len(row))\n",
    "\n",
    "    except FileNotFoundError:\n",
    "        print(f\"Error: File '{file_path}' not found.\")\n",
    "        return\n",
    "\n",
    "    print(f\"\\nTotal Rows: {num_rows}\")\n",
    "    print(f\"Total Columns: {num_columns}\")\n",
    "        \n",
    "\n",
    "file_path = \"AAPL.csv\"  \n",
    "print_csv_data(file_path, 5)"
   ]
  },
  {
   "cell_type": "markdown",
   "id": "c399a0fb",
   "metadata": {},
   "source": [
    "# Sual 4"
   ]
  },
  {
   "cell_type": "markdown",
   "id": "09599a3b",
   "metadata": {},
   "source": [
    "File_path input kimi qəbul edən və CSV faylını oxuyan funksiya yazın. Funksiya hər il üçün closing_price ortalamasını hesablayacaq (Date sütunundan il çıxarın) və nəticələri dictionary-də saxlayacaq. Nümunə:\\\n",
    "func(path)-->{2014: 108.78,\n",
    "2015: 120.085,\n",
    "2016: 100.39}\\\n",
    "HINT: ortalama=sum(a)/len(a)"
   ]
  },
  {
   "cell_type": "code",
   "execution_count": 39,
   "id": "c445b22f",
   "metadata": {},
   "outputs": [
    {
     "data": {
      "text/plain": [
       "{2014: 108.78285600000001, 2015: 120.08519211538461, 2016: 100.3988571142857}"
      ]
     },
     "execution_count": 39,
     "metadata": {},
     "output_type": "execute_result"
    }
   ],
   "source": [
    "import csv\n",
    "\n",
    "def calculate_yearly_mean(file_path):\n",
    "    yearly_mean = {}\n",
    "    try:\n",
    "        with open(file_path, newline='') as csvfile:\n",
    "            reader = csv.reader(csvfile)\n",
    "            next(reader)  # Skip the header row\n",
    "\n",
    "            for row in reader:\n",
    "                date_str, closing_price_str = row[0], row[1]\n",
    "                year = int(date_str.split('-')[0])\n",
    "                closing_price = float(closing_price_str)\n",
    "\n",
    "                if year in yearly_mean:\n",
    "                    yearly_mean[year].append(closing_price)\n",
    "                else:\n",
    "                    yearly_mean[year] = [closing_price]\n",
    "\n",
    "        for year, prices in yearly_mean.items():\n",
    "            mean_price = sum(prices) / len(prices)\n",
    "            yearly_mean[year] = mean_price\n",
    "\n",
    "        return yearly_mean\n",
    "\n",
    "    except FileNotFoundError:\n",
    "        print(f\"Error: File '{file_path}' not found.\")\n",
    "        return None\n",
    "\n",
    "    \n",
    "file_path = \"AAPL.csv\"  \n",
    "calculate_yearly_mean(file_path)"
   ]
  }
 ],
 "metadata": {
  "kernelspec": {
   "display_name": "Python 3 (ipykernel)",
   "language": "python",
   "name": "python3"
  },
  "language_info": {
   "codemirror_mode": {
    "name": "ipython",
    "version": 3
   },
   "file_extension": ".py",
   "mimetype": "text/x-python",
   "name": "python",
   "nbconvert_exporter": "python",
   "pygments_lexer": "ipython3",
   "version": "3.9.12"
  }
 },
 "nbformat": 4,
 "nbformat_minor": 5
}

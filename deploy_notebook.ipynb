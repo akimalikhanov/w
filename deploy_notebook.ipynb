{
 "cells": [
  {
   "cell_type": "code",
   "execution_count": 1,
   "id": "a35b1694",
   "metadata": {},
   "outputs": [],
   "source": [
    "import numpy as np\n",
    "import pandas as pd\n",
    "import matplotlib.pyplot as plt\n",
    "import seaborn as sns\n",
    "from pyod.models.mad import MAD\n",
    "from scipy.stats import normaltest\n",
    "import lightgbm as lgb\n",
    "from sklearn.preprocessing import OneHotEncoder, MinMaxScaler\n",
    "from sklearn.model_selection import StratifiedKFold, train_test_split\n",
    "from sklearn.compose import ColumnTransformer\n",
    "from sklearn.metrics import roc_auc_score, confusion_matrix, roc_auc_score\n",
    "pd.set_option('display.max_columns', 500)\n",
    "pd.set_option('display.max_rows', 150)\n",
    "pd.set_option('display.float_format', lambda x: '%.4f' % x)\n",
    "sns.set()\n",
    "import warnings\n",
    "warnings.filterwarnings(action='ignore', category=UserWarning)\n",
    "from imports import *\n",
    "import gc\n",
    "import pickle\n",
    "import sys\n",
    "sys.path.insert(1, '../src')\n",
    "from utils import *\n",
    "import config\n",
    "import pandas as pd\n",
    "import numpy as np\n",
    "import pickle"
   ]
  },
  {
   "cell_type": "markdown",
   "id": "609ccfc1",
   "metadata": {},
   "source": [
    "# Feature Generation"
   ]
  },
  {
   "cell_type": "code",
   "execution_count": 2,
   "id": "3480f7a3",
   "metadata": {},
   "outputs": [],
   "source": [
    "import numpy as np\n",
    "import pandas as pd\n",
    "import matplotlib.pyplot as plt\n",
    "from scipy.stats import normaltest\n",
    "from sklearn.preprocessing import OneHotEncoder, MinMaxScaler\n",
    "from sklearn.compose import ColumnTransformer\n",
    "from sklearn.model_selection import StratifiedKFold, train_test_split\n",
    "import lightgbm as lgb\n",
    "import sys\n",
    "import gc\n",
    "import re\n",
    "import pickle\n",
    "import json\n",
    "from datetime import datetime\n",
    "\n",
    "\n",
    "\n",
    "\n",
    "def return_size(df):\n",
    "    \"\"\"Return size of dataframe in gigabytes\"\"\"\n",
    "    return round(sys.getsizeof(df) / 1e9, 2)\n",
    "\n",
    "def convert_types(df, print_info = False):\n",
    "    \n",
    "    original_memory = df.memory_usage().sum()\n",
    "    \n",
    "    for c in df:\n",
    "        \n",
    "        if ('SK_ID' in c):\n",
    "            df[c] = df[c].fillna(0).astype(np.int32)\n",
    "        \n",
    "        elif list(df[c].unique()) == [1, 0]:\n",
    "            df[c] = df[c].astype(bool)\n",
    "        \n",
    "        elif df[c].dtype == np.float64:\n",
    "            df[c] = df[c].astype(np.float32)\n",
    "            \n",
    "        elif df[c].dtype == np.int64:\n",
    "            df[c] = df[c].astype(np.int32)\n",
    "        \n",
    "    new_memory = df.memory_usage().sum()\n",
    "    \n",
    "    if print_info:\n",
    "        print(f'Original Memory Usage: {round(original_memory / 1e9, 2)} gb.')\n",
    "        print(f'New Memory Usage: {round(new_memory / 1e9, 2)} gb.')\n",
    "        \n",
    "    return df\n",
    "\n",
    "\n",
    "\n",
    "def miss_table(data):\n",
    "    miss_table=data.isna().sum().to_frame(name='Count')\n",
    "    miss_table['Percent']=miss_table['Count']/len(data)*100\n",
    "    miss_table['Dtype']=data.dtypes[miss_table.index]\n",
    "    miss_table['Count']=miss_table['Count'].replace({0: np.nan})\n",
    "    miss_table=miss_table.dropna()\n",
    "    print(f\"There are {len(miss_table)}/{data.shape[1]} columns with missing values\")\n",
    "    print('Distribution by dtypes:')\n",
    "    print(miss_table['Dtype'].value_counts())\n",
    "    return miss_table.sort_values(by='Count', ascending=False)\n",
    "\n",
    "\n",
    "\n",
    "def generate_domain_features(df):\n",
    "    # CREDIT related \n",
    "    bins=[18, 35, 40, 50, 60, 70, 120]\n",
    "    labels=['18-29', '30-39', '40-49', '50-59', '60-69', '70+']\n",
    "    df['NEW_AGE_GROUP']=pd.cut(df['DAYS_BIRTH']/-365, bins=bins, labels=labels, right=False).astype('object')\n",
    "\n",
    "    cred_by_contract=df.groupby('NAME_CONTRACT_TYPE')['AMT_CREDIT'].mean() \n",
    "    cred_by_housing_type=df.groupby('NAME_HOUSING_TYPE')['AMT_CREDIT'].mean() \n",
    "    cred_by_org_type=df.groupby('ORGANIZATION_TYPE')['AMT_CREDIT'].mean() \n",
    "    cred_by_education_type=df.groupby('NAME_EDUCATION_TYPE')['AMT_CREDIT'].mean() \n",
    "    cred_by_gender=df.groupby('CODE_GENDER')['AMT_CREDIT'].mean() \n",
    "    cred_by_family_status=df.groupby('NAME_FAMILY_STATUS')['AMT_CREDIT'].mean()\n",
    "    cred_by_age_group=df.groupby('NEW_AGE_GROUP')['AMT_CREDIT'].mean()\n",
    "\n",
    "    df['NEW_AMT_CREDIT_TO_AMT_INCOME']=df['AMT_CREDIT']/df['AMT_INCOME_TOTAL'] \n",
    "    df['NEW_AMT_CREDIT_TO_AMT_ANNUITY']=df['AMT_CREDIT']/df['AMT_ANNUITY']\n",
    "    df['NEW_AMT_CREDIT_TO_AMT_GOODS_PRICE']=df['AMT_CREDIT']/df['AMT_GOODS_PRICE']\n",
    "    df['NEW_AMT_CREDIT_TO_MEAN_AMT_CREDIT_BY_CONTRACT_TYPE']=df['AMT_CREDIT']/(df['NAME_CONTRACT_TYPE'].map(cred_by_contract))\n",
    "    df['NEW_AMT_CREDIT_TO_MEAN_AMT_CREDIT_BY_HOUSING_TYPE']=df['AMT_CREDIT']/(df['NAME_HOUSING_TYPE'].map(cred_by_housing_type))\n",
    "    df['NEW_AMT_CREDIT_TO_MEAN_AMT_CREDIT_BY_ORGANIZATION_TYPE']=df['AMT_CREDIT']/(df['ORGANIZATION_TYPE'].map(cred_by_org_type))\n",
    "    df['NEW_AMT_CREDIT_TO_MEAN_AMT_CREDIT_BY_EDUCATION_TYPE']=df['AMT_CREDIT']/(df['NAME_EDUCATION_TYPE'].map(cred_by_education_type))\n",
    "    df['NEW_AMT_CREDIT_TO_MEAN_AMT_CREDIT_BY_GENDER']=df['AMT_CREDIT']/(df['CODE_GENDER'].map(cred_by_gender))\n",
    "    df['NEW_AMT_CREDIT_TO_MEAN_AMT_CREDIT_BY_FAMILY_STATUS']=df['AMT_CREDIT']/(df['NAME_FAMILY_STATUS'].map(cred_by_family_status))\n",
    "    df['NEW_AMT_CREDIT_TO_MEAN_AMT_INCOME_BY_AGE_GROUP']=df['AMT_CREDIT']/df['NEW_AGE_GROUP'].map(cred_by_age_group)\n",
    "\n",
    "\n",
    "    # INCOME related\n",
    "    inc_by_contract=df.groupby('NAME_CONTRACT_TYPE')['AMT_INCOME_TOTAL'].mean() \n",
    "    inc_by_housing_type=df.groupby('NAME_HOUSING_TYPE')['AMT_INCOME_TOTAL'].mean() \n",
    "    inc_by_org_type=df.groupby('ORGANIZATION_TYPE')['AMT_INCOME_TOTAL'].mean() \n",
    "    inc_by_education_type=df.groupby('NAME_EDUCATION_TYPE')['AMT_INCOME_TOTAL'].mean() \n",
    "    inc_by_gender=df.groupby('CODE_GENDER')['AMT_INCOME_TOTAL'].mean()\n",
    "    inc_by_family_status=df.groupby('NAME_FAMILY_STATUS')['AMT_INCOME_TOTAL'].mean()\n",
    "    inc_by_age_group=df.groupby('NEW_AGE_GROUP')['AMT_INCOME_TOTAL'].mean()\n",
    "\n",
    "    df['NEW_AMT_INCOME_BY_AGE_GROUP']=df['AMT_INCOME_TOTAL']/df['NEW_AGE_GROUP'].map(inc_by_age_group)\n",
    "    df['NEW_AMT_INCOME_BY_CNT_CHILD']=df['AMT_INCOME_TOTAL']/(1+df['CNT_CHILDREN'])\n",
    "    df['NEW_AMT_INCOME_BY_CNT_FAM_MEMBERS']=df['AMT_INCOME_TOTAL']/df['CNT_FAM_MEMBERS']\n",
    "    df['NEW_AMT_INCOME_BY_AGE']=df['AMT_INCOME_TOTAL']/(df['DAYS_BIRTH']/-365)\n",
    "    df['NEW_AMT_INCOME_TO_MEAN_AMT_CREDIT_BY_CONTRACT_TYPE']=df['AMT_INCOME_TOTAL']/(df['NAME_CONTRACT_TYPE'].map(inc_by_contract))\n",
    "    df['NEW_AMT_INCOME_TO_MEAN_AMT_CREDIT_BY_HOUSING_TYPE']=df['AMT_INCOME_TOTAL']/(df['NAME_HOUSING_TYPE'].map(inc_by_housing_type))\n",
    "    df['NEW_AMT_INCOME_TO_MEAN_AMT_CREDIT_BY_ORGANIZATION_TYPE']=df['AMT_INCOME_TOTAL']/(df['ORGANIZATION_TYPE'].map(inc_by_org_type))\n",
    "    df['NEW_AMT_INCOME_TO_MEAN_AMT_CREDIT_BY_EDUCATION_TYPE']=df['AMT_INCOME_TOTAL']/(df['NAME_EDUCATION_TYPE'].map(inc_by_education_type))\n",
    "    df['NEW_AMT_INCOME_TO_MEAN_AMT_CREDIT_BY_GENDER']=df['AMT_INCOME_TOTAL']/(df['CODE_GENDER'].map(inc_by_gender))\n",
    "    df['NEW_AMT_CREDIT_TO_MEAN_AMT_CREDIT_BY_FAMILY_STATUS']=df['AMT_CREDIT']/(df['NAME_FAMILY_STATUS'].map(inc_by_family_status))\n",
    "    df['NEW_AMT_INCOME_TO_MEAN_AMT_INCOME_BY_AGE_GROUP']=df['AMT_INCOME_TOTAL']/df['NEW_AGE_GROUP'].map(inc_by_age_group)\n",
    "\n",
    "\n",
    "    # FLAG related\n",
    "    # doc_flags--20 columns about documents\n",
    "    # contact_flags--6 flags about contact info of client (FLAG_MOBIL, FLAG_EMAIL, etc)\n",
    "    # address_flags--6 flags about address info of client (REG_REGION_NOT_LIVE_REGION, REG_REGION_NOT_WORK_REGION, etc)\n",
    "    doc_flags=[i for i in df.columns if 'FLAG_DOCUMENT' in i]\n",
    "    contact_flags=[i for i in df.columns if ('FLAG' in i) and (i not in doc_flags) and (i not in ('FLAG_OWN_CAR', 'FLAG_OWN_REALTY'))]\n",
    "    address_flags=[i for i in df.columns if 'NOT' in i]\n",
    "    flag_map={'Y':1, 'N':0}\n",
    "\n",
    "    df['NEW_DOC_FLAG_MEAN']=df[doc_flags].mean(axis=1)\n",
    "    df['NEW_DOC_FLAG_SUM']=df[doc_flags].sum(axis=1)\n",
    "    df['NEW_CONTACT_FLAG_MEAN']=df[contact_flags].mean(axis=1)\n",
    "    df['NEW_CONTACT_FLAG_SUM']=df[contact_flags].sum(axis=1)\n",
    "    df['NEW_ADDRESS_FLAG_MEAN']=df[address_flags].mean(axis=1)\n",
    "    df['NEW_ADDRESS_FLAG_SUM']=df[address_flags].sum(axis=1)\n",
    "    df['NEW_OWN_CAR_REALTY_COMBINATION']=0.75*df['FLAG_OWN_REALTY'].map(flag_map)+0.25*df['FLAG_OWN_CAR'].map(flag_map)\n",
    "\n",
    "\n",
    "    # AGE related\n",
    "    age_by_housing_type=df.groupby('NAME_HOUSING_TYPE')['DAYS_BIRTH'].mean()\n",
    "    age_by_own_realty=df.groupby('FLAG_OWN_REALTY')['DAYS_BIRTH'].mean()\n",
    "    age_by_own_car=df.groupby('FLAG_OWN_CAR')['DAYS_BIRTH'].mean()\n",
    "\n",
    "    df['NEW_AGE_TO_MEAN_AGE_BY_FLAG_OWN_REALTY']=df['DAYS_BIRTH']/(df['FLAG_OWN_REALTY'].map(age_by_own_realty))\n",
    "    df['NEW_AGE_TO_MEAN_AGE_BY_FLAG_OWN_CAR']=df['DAYS_BIRTH']/(df['FLAG_OWN_CAR'].map(age_by_own_car))\n",
    "    df['NEW_AGE_TO_MEAN_AGE_BY_HOUSING_TYPE']=df['DAYS_BIRTH']/(df['NAME_HOUSING_TYPE'].map(age_by_housing_type))\n",
    "    df[\"NEW_DAYS_EMPLOYED_TO_DAYS_BIRTH\"]=df['DAYS_EMPLOYED']/df['DAYS_BIRTH']\n",
    "    df[\"NEW_DAYS_REGISTRATION_TO_DAYS_BIRTH\"]=df['DAYS_REGISTRATION']/df['DAYS_BIRTH']\n",
    "\n",
    "\n",
    "    # Other\n",
    "    df['NEW_OWN_CAR_AGE_TO_DAYS_BIRTH']=df['OWN_CAR_AGE']/df['DAYS_BIRTH']\n",
    "    df['NEW_OWN_CAR_AGE_TO_DAYS_EMPLOYED']=df['OWN_CAR_AGE']/df['DAYS_EMPLOYED']\n",
    "    df['NEW_DAYS_LAST_PHONE_CHANGE_TO_DAYS_BIRTH']=df['DAYS_LAST_PHONE_CHANGE']/df['DAYS_BIRTH']\n",
    "    df['NEW_DAYS_LAST_PHONE_CHANGE_TO_DAYS_EMPLOYED']=df['DAYS_LAST_PHONE_CHANGE']/df['DAYS_EMPLOYED']\n",
    "    df['NEW_CNT_CHILD_TO_CNT_FAM_MEMBERS']=df['CNT_CHILDREN']/df['CNT_FAM_MEMBERS']\n",
    "    df['NEW_EXT_SOURCES_MEAN']=df[['EXT_SOURCE_1', 'EXT_SOURCE_2', 'EXT_SOURCE_3']].mean(axis=1)\n",
    "    df['NEW_EXT_SOURCES_STD']=df[['EXT_SOURCE_1', 'EXT_SOURCE_2', 'EXT_SOURCE_3']].std(axis=1)\n",
    "    df['NEW_DAYS_CHANGE_MEAN']=df[['DAYS_ID_PUBLISH', 'DAYS_LAST_PHONE_CHANGE', 'DAYS_REGISTRATION']].mean(axis=1)\n",
    "    df['NEW_REGION_RATING_CLIENT_MEAN']=df[['REGION_RATING_CLIENT', 'REGION_RATING_CLIENT_W_CITY']].mean(axis=1)\n",
    "    df['NEW_30_CNT_SOCIAL_CIRCLE_MEAN']=df[['OBS_30_CNT_SOCIAL_CIRCLE', 'DEF_30_CNT_SOCIAL_CIRCLE']].mean(axis=1)\n",
    "    df['NEW_60_CNT_SOCIAL_CIRCLE_MEAN']=df[['OBS_60_CNT_SOCIAL_CIRCLE', 'DEF_60_CNT_SOCIAL_CIRCLE']].mean(axis=1)\n",
    "    \n",
    "    print(f'After adding features: {df.shape}')\n",
    "    return df\n",
    "\n",
    "\n",
    "\n",
    "def numeric_agg(df, group_col, df_name):\n",
    "    num_df=df.select_dtypes('number')\n",
    "    if num_df.shape[1]!=0:\n",
    "        for c in num_df.columns:\n",
    "            if 'ID' in c and c!=group_col:\n",
    "                num_df=num_df.drop(c, axis=1)\n",
    "        df_agg=num_df.groupby(group_col).agg(['count', 'mean', 'max', 'min', 'sum'])\n",
    "\n",
    "        new_cols=[]\n",
    "        for l1 in df_agg.columns.levels[0]:\n",
    "            if l1!=group_col:\n",
    "                for l2 in df_agg.columns.levels[1]: # for stat in agg.columns.levels[1][:-1]\n",
    "                    new_cols.append(f'{df_name}_{l1}_{l2}')\n",
    "        df_agg.columns=new_cols\n",
    "        # Remove duplicate columns by values\n",
    "        _, idx = np.unique(df_agg, axis = 1, return_index = True)\n",
    "        df_agg = df_agg.iloc[:, idx]\n",
    "        print(f'Dataset:{df_name}\\n\\tBefore: {num_df.shape[1]} numeric cols\\n\\tAfter: {df_agg.shape[1]}')\n",
    "        return df_agg\n",
    "    else:\n",
    "        print('No numeric columns in dataframe')\n",
    "        return False\n",
    "    \n",
    "\n",
    "\n",
    "def categ_agg(df, group_col, df_name, enc, enc_mode='train'):\n",
    "    cat_df=df.select_dtypes(include=['object'])\n",
    "    if cat_df.shape[1]!=0:\n",
    "        if enc_mode=='train':\n",
    "            cat_df_ohe=enc.fit_transform(cat_df)\n",
    "        elif enc_mode=='test': \n",
    "            cat_df_ohe=enc.transform(cat_df)\n",
    "        cat_df_ohe=pd.DataFrame(cat_df_ohe, columns=enc.get_feature_names_out())\n",
    "        cat_df_ohe[group_col]=df[group_col]\n",
    "        df_agg=cat_df_ohe.groupby(group_col).agg(['sum', 'mean'])\n",
    "\n",
    "        new_cols=[]\n",
    "        for l1 in df_agg.columns.levels[0]:\n",
    "            for l2 in ['count', 'count_norm']: # more suitable aliases for sum and mean\n",
    "                new_cols.append(f'{df_name}_{l1}_{l2}')\n",
    "        df_agg.columns=new_cols\n",
    "        # Remove duplicate columns by values\n",
    "        _, idx = np.unique(df_agg, axis = 1, return_index = True)\n",
    "        df_agg = df_agg.iloc[:, idx]\n",
    "        print(f'Dataset:{df_name}\\n\\tBefore: {cat_df.shape[1]} categorical cols\\n\\tAfter: {df_agg.shape[1]}')\n",
    "        return df_agg\n",
    "    else:\n",
    "        print('No categorical columns in dataframe')\n",
    "        return False\n",
    "    \n",
    "\n",
    "\n",
    "def agg_combine(df, group_vars, df_names, enc, enc_mode='train', agg_level=1):\n",
    "    if agg_level==2:\n",
    "        df_cat_agg=categ_agg(df, group_vars[1], df_names[1], enc, enc_mode)\n",
    "        df_num_agg=numeric_agg(df, group_vars[1], df_names[1])\n",
    "        df_full_l2=df_cat_agg.merge(df_num_agg, on=group_vars[1], how='outer')\n",
    "        df_full_l2=df[group_vars].merge(df_full_l2, on=group_vars[1], how='right')\n",
    "        df_full=numeric_agg(df_full_l2, group_vars[0], df_names[0])\n",
    "        gc.enable()\n",
    "        del df_full_l2\n",
    "        gc.collect()\n",
    "    elif agg_level==1:\n",
    "        df_cat_agg=categ_agg(df, group_vars[0], df_names[0], enc, enc_mode)\n",
    "        df_num_agg=numeric_agg(df, group_vars[0], df_names[0])\n",
    "        df_full=df_cat_agg.merge(df_num_agg, on=group_vars[0], how='outer')\n",
    "    else:\n",
    "        return 'Select aggregation level 1 or 2'\n",
    "    gc.enable()\n",
    "    del df_cat_agg, df_num_agg\n",
    "    gc.collect()\n",
    "    return df_full\n",
    "\n",
    "\n",
    "\n",
    "def application_data(path):\n",
    "    df=pd.read_csv(path)\n",
    "    print(f'Application data shape: {df.shape}')\n",
    "    df['DAYS_EMPLOYED']=df['DAYS_EMPLOYED'].replace(365243, np.nan)\n",
    "    df=generate_domain_features(df)\n",
    "    return convert_types(df)\n",
    "\n",
    "\n",
    "\n",
    "def bureau_and_bb(bur_path, bb_path, enc_mode='test', bur_ohe=None, bb_ohe=None):\n",
    "    bur=convert_types(pd.read_csv(bur_path))\n",
    "    bb=convert_types(pd.read_csv(bb_path))\n",
    "    print(f'Bureau shape: {bur.shape}')\n",
    "    print(f'Bureau balance shape: {bb.shape}')\n",
    "    if not bb_ohe:\n",
    "        bb_ohe=OneHotEncoder(sparse=False, handle_unknown='ignore')\n",
    "        enc_mode='train'\n",
    "    bb_numeric_agg_df=numeric_agg(bb, 'SK_ID_BUREAU', 'bureau_balance')\n",
    "    bb_categ_agg_df=categ_agg(bb, 'SK_ID_BUREAU', 'bureau_balance', bb_ohe, enc_mode)\n",
    "    bb_full=bb_numeric_agg_df.merge(bb_categ_agg_df, on='SK_ID_BUREAU', how='outer')\n",
    "    bb_by_credit=bur[['SK_ID_BUREAU', 'SK_ID_CURR']].merge(bb_full, on='SK_ID_BUREAU', how='left') \n",
    "    bb=numeric_agg(bb_by_credit, 'SK_ID_CURR', 'loan') \n",
    "    if not bur_ohe:\n",
    "        bur_ohe=OneHotEncoder(sparse=False, handle_unknown='ignore')\n",
    "        enc_mode='train'\n",
    "    bur=agg_combine(bur, ['SK_ID_CURR'], ['bureau'], bur_ohe, enc_mode)\n",
    "    del bb_numeric_agg_df, bb_categ_agg_df, bb_full, bb_by_credit; gc.collect()\n",
    "    return bur, bb, bur_ohe, bb_ohe\n",
    "\n",
    "\n",
    "\n",
    "def previous(prev_path, enc_mode='test', prev_ohe=None):\n",
    "    prev=convert_types(pd.read_csv(prev_path))\n",
    "    print(f'Previous shape: {prev.shape}')\n",
    "    for c in ['DAYS_FIRST_DRAWING', 'DAYS_FIRST_DUE', 'DAYS_LAST_DUE_1ST_VERSION', 'DAYS_LAST_DUE', 'DAYS_TERMINATION']:\n",
    "        prev[c]=prev[c].replace(365243, np.nan)\n",
    "    if not prev_ohe:\n",
    "        prev_ohe=OneHotEncoder(sparse=False, handle_unknown='ignore')\n",
    "        enc_mode='train'\n",
    "    prev=agg_combine(prev, ['SK_ID_CURR'], ['previous'], prev_ohe, enc_mode)\n",
    "    return prev, prev_ohe\n",
    "\n",
    "\n",
    "\n",
    "def pos_cash(cash_path, enc_mode='test', cash_ohe=None):\n",
    "    cash=convert_types(pd.read_csv(cash_path))\n",
    "    print(f'Cash shape: {cash.shape}')\n",
    "    if not cash_ohe:\n",
    "        cash_ohe=OneHotEncoder(sparse=False, handle_unknown='ignore')\n",
    "        enc_mode='train'\n",
    "    cash=agg_combine(cash, ['SK_ID_CURR', 'SK_ID_PREV'], ['loan', 'cash'], cash_ohe, enc_mode, agg_level=2)\n",
    "    return cash, cash_ohe\n",
    "\n",
    "\n",
    "\n",
    "def installments(inst_path):\n",
    "    inst=convert_types(pd.read_csv(inst_path))\n",
    "    print(f'Installments shape: {inst.shape}')\n",
    "    inst_agg_by_prev=numeric_agg(inst, 'SK_ID_PREV', 'inst')\n",
    "    inst_agg_by_prev=inst[['SK_ID_PREV', 'SK_ID_CURR']].merge(inst_agg_by_prev, on='SK_ID_PREV', how='right')\n",
    "    inst=numeric_agg(inst_agg_by_prev, 'SK_ID_CURR', 'loan')\n",
    "    del inst_agg_by_prev; gc.collect()\n",
    "    return inst\n",
    "\n",
    "\n",
    "\n",
    "def card_balance(card_path, enc_mode='test', card_ohe=None):\n",
    "    card_balance=convert_types(pd.read_csv(card_path))\n",
    "    print(f'Card Balance shape: {card_balance.shape}')\n",
    "    if not card_ohe:\n",
    "        card_ohe=OneHotEncoder(sparse=False, handle_unknown='ignore')\n",
    "        enc_mode='train'\n",
    "    card_balance=agg_combine(card_balance, ['SK_ID_CURR', 'SK_ID_PREV'], ['loan', 'card'], card_ohe, enc_mode, agg_level=2)\n",
    "    return card_balance, card_ohe\n",
    "\n",
    "\n",
    "\n",
    "def full_df(path_dict, mode='train'):\n",
    "    if mode=='train':\n",
    "        ohe_dict={}\n",
    "        app=application_data(path_dict['application_train'])\n",
    "        bur, bb, bur_ohe, bb_ohe=bureau_and_bb(path_dict['bur'], path_dict['bb'])\n",
    "        app=app.merge(bur, on='SK_ID_CURR', how='left')\n",
    "        ohe_dict['Bureau_OHE']=bur_ohe\n",
    "        ohe_dict['BB_OHE']= bb_ohe\n",
    "        del bur, bur_ohe; gc.collect()\n",
    "        app=app.merge(bb, on='SK_ID_CURR', how='left')\n",
    "        del bb, bb_ohe; gc.collect()\n",
    "        \n",
    "        prev, prev_ohe=previous(path_dict['previous'])\n",
    "        app=app.merge(prev, on='SK_ID_CURR', how='left')\n",
    "        ohe_dict['Prev_OHE']= prev_ohe\n",
    "        del prev, prev_ohe; gc.collect()\n",
    "        \n",
    "        cash, cash_ohe=pos_cash(path_dict['cash'])\n",
    "        app=app.merge(cash, on='SK_ID_CURR', how='left')\n",
    "        ohe_dict['Cash_OHE']= cash_ohe\n",
    "        del cash, cash_ohe; gc.collect()\n",
    "        \n",
    "        inst=installments(path_dict['installments'])\n",
    "        app=app.merge(inst, on='SK_ID_CURR', how='left')\n",
    "        del inst; gc.collect()\n",
    "        \n",
    "        card_b, card_b_ohe=card_balance(path_dict['card_balance'])\n",
    "        app=app.merge(card_b, on='SK_ID_CURR', how='left')\n",
    "        ohe_dict['Card_OHE']=card_b_ohe\n",
    "        del card_b, card_b_ohe; gc.collect()\n",
    "       \n",
    "        with open(path_dict['ohe_dict'], 'wb') as f:\n",
    "            pickle.dump(ohe_dict, f)\n",
    "        \n",
    "    elif mode=='test':\n",
    "        with open(path_dict['ohe_dict'], 'rb') as f:\n",
    "            ohe_dict=pickle.load(f)\n",
    "        app=application_data(path_dict['application_test'])\n",
    "        bur, bb, _, _=bureau_and_bb(path_dict['bur'], \n",
    "                                    path_dict['bb'], \n",
    "                                    bur_ohe=ohe_dict['Bureau_OHE'], \n",
    "                                    bb_ohe=ohe_dict['BB_OHE'])\n",
    "        app=app.merge(bur, on='SK_ID_CURR', how='left')\n",
    "        del bur; gc.collect()\n",
    "        app=app.merge(bb, on='SK_ID_CURR', how='left')\n",
    "        del bb; gc.collect()\n",
    "        \n",
    "        prev, _=previous(path_dict['previous'], prev_ohe=ohe_dict['Prev_OHE'])\n",
    "        app=app.merge(prev, on='SK_ID_CURR', how='left')\n",
    "        del prev; gc.collect()\n",
    "        \n",
    "        cash, _=pos_cash(path_dict['cash'], cash_ohe=ohe_dict['Cash_OHE'])\n",
    "        app=app.merge(cash, on='SK_ID_CURR', how='left')\n",
    "        del cash; gc.collect()\n",
    "        \n",
    "        inst=installments(path_dict['installments'])\n",
    "        app=app.merge(inst, on='SK_ID_CURR', how='left')\n",
    "        del inst; gc.collect()\n",
    "        \n",
    "        card_b, _=card_balance(path_dict['card_balance'], card_ohe=ohe_dict['Card_OHE'])\n",
    "        app=app.merge(card_b, on='SK_ID_CURR', how='left')\n",
    "        del card_b; gc.collect()\n",
    "    else:\n",
    "        raise Exception(\"Specify mode (train of test) and OHE dict bool\")\n",
    "\n",
    "    app=app.rename(columns=lambda x:re.sub('[^A-Za-z0-9_]+', '', x))\n",
    "    return convert_types(app)\n",
    "\n",
    "\n",
    "\n",
    "def correlation_filter(df, thresh, corr_path, mode='train'):\n",
    "    if mode=='train':\n",
    "        corr_mat=df.drop(['SK_ID_CURR', 'TARGET'], axis=1).corr().abs()\n",
    "        upper=corr_mat.where(np.triu(np.ones(corr_mat.shape), k=1).astype(np.bool))\n",
    "        upper.to_csv(corr_path, index=False)\n",
    "    elif mode=='test':\n",
    "        upper=pd.read_csv(corr_path)\n",
    "    to_drop=[column for column in upper.columns if any(upper[column]>thresh)]\n",
    "    print(f'Correlation: {len(to_drop)} will be removed')\n",
    "    return df.drop(to_drop, axis=1)\n",
    "\n",
    "\n",
    "\n",
    "def missing_filter(df, thresh, col_path, mode='train'):\n",
    "    if mode=='train':\n",
    "        mt=miss_table(df)\n",
    "        to_drop=mt.loc[mt['Percent']>thresh].index\n",
    "        with open(col_path, 'wb') as f:\n",
    "            pickle.dump(to_drop, f)\n",
    "    elif mode=='test':\n",
    "        with open(col_path, 'rb') as f:\n",
    "            to_drop=pickle.load(f)\n",
    "    else:\n",
    "        raise Exception(\"Specify mode (train of test) and path\")\n",
    "    print(f'{len(to_drop)} features with {thresh}% of NaNs will be removed')\n",
    "    return df.drop(to_drop, axis=1)\n",
    "\n",
    "\n",
    "\n",
    "def zero_var_filter(df, col_path, mode='train'):\n",
    "    if mode=='train':\n",
    "        scaler=MinMaxScaler()\n",
    "        numeric_data=df.drop('SK_ID_CURR', axis=1).select_dtypes('number').reset_index(drop=True)\n",
    "        numeric_data.replace([np.inf, -np.inf], np.nan, inplace=True)\n",
    "        for i in numeric_data.columns:\n",
    "            numeric_data[i].fillna(value=numeric_data[i].mean(), inplace=True) #replace NaN with mean of dimension\n",
    "            numeric_data[i]=scaler.fit_transform(numeric_data[i].values.reshape(-1,1)) \n",
    "        vars_df=numeric_data.var()\n",
    "        to_drop=vars_df[vars_df==0].index\n",
    "        with open(col_path, 'wb') as f:\n",
    "            pickle.dump(to_drop, f)\n",
    "    \n",
    "    elif mode=='test':\n",
    "        with open(col_path, 'rb') as f:\n",
    "            to_drop=pickle.load(f)\n",
    "    else:\n",
    "        raise Exception(\"Specify mode (train of test) and path\")\n",
    "    print(f'{len(to_drop)} features with zero variance will be removed')\n",
    "    return df.drop(to_drop, axis=1)\n",
    "\n",
    "\n",
    "\n",
    "def feat_imp_cv(df, feat_imp_path, k=5, params=None, mode='train'):\n",
    "    if mode=='train':\n",
    "        data=df.copy()\n",
    "        for c in data:\n",
    "            if (data[c].dtype=='object') and (data[c].nunique()<data.shape[0]):\n",
    "                data[c]=data[c].astype('category')\n",
    "        X, y=data.drop(['SK_ID_CURR', 'TARGET'], axis=1), data['TARGET']\n",
    "        feat_importances_gain, feat_importances_split=[], []\n",
    "        cols=list(X.columns)\n",
    "        cat_feats=list(X.select_dtypes(['category']).columns)\n",
    "        kfold=StratifiedKFold(k)\n",
    "        for f, (tr, te) in enumerate(kfold.split(X, y=y)):\n",
    "            X_train, y_train=X.iloc[tr, :], y.iloc[tr]\n",
    "            X_test, y_test=X.iloc[te, :], y.iloc[te]\n",
    "            weight=np.count_nonzero(y_train==0)/np.count_nonzero(y_train==1)\n",
    "            params['scale_pos_weight']=weight\n",
    "            dtrain=lgb.Dataset(X_train, label=y_train, params={'verbose': -1})\n",
    "            dval=lgb.Dataset(X_test, label=y_test, params={'verbose': -1})\n",
    "            model=lgb.train(\n",
    "                            params=params,\n",
    "                            train_set=dtrain,\n",
    "                            valid_sets=[dtrain, dval],\n",
    "                            valid_names=['train', 'test'],\n",
    "                            categorical_feature=cat_feats,\n",
    "                            callbacks=[lgb.early_stopping(100, verbose=-1)],\n",
    "                            verbose_eval=False\n",
    "                            )\n",
    "            feat_importances_gain.append(model.feature_importance(importance_type='gain'))\n",
    "            feat_importances_split.append(model.feature_importance(importance_type='split'))\n",
    "        \n",
    "        gc.enable(); del data, X, y; gc.collect()\n",
    "        feat_importances_gain=np.array(feat_importances_gain).mean(axis=0)\n",
    "        feat_importances_split=np.array(feat_importances_split).mean(axis=0)\n",
    "        feat_importances_df=pd.DataFrame({'feature': cols,\n",
    "                                        'importance (gain)': feat_importances_gain,\n",
    "                                        'importance (split)': feat_importances_split,})\n",
    "        with open(feat_imp_path, 'wb') as f:\n",
    "            pickle.dump(feat_importances_df, f)\n",
    "    \n",
    "    elif mode=='test':\n",
    "        with open(feat_imp_path, 'rb') as f:\n",
    "            feat_importances_df=pickle.load(f)\n",
    "    \n",
    "    else:\n",
    "        raise Exception(\"Specify mode (train of test) and path\")\n",
    "    return feat_importances_df\n",
    "\n",
    "\n",
    "\n",
    "def drop_zero_imp(df, feat_imp_path, k=5, params=None, mode='train', drop_by='importance (gain)'):\n",
    "    feature_imp_df=feat_imp_cv(df, feat_imp_path, k, params, mode=mode)\n",
    "    to_drop=feature_imp_df[feature_imp_df[drop_by]==0]['feature'].values\n",
    "    print(f'Num of features with zero importance: {len(to_drop)}')\n",
    "    return df.drop(to_drop, axis=1)\n",
    "\n",
    "\n",
    "\n",
    "def save_data(df, df_path, dtypes_path=None):\n",
    "    df.to_csv(df_path, index=False)\n",
    "    if dtypes_path:\n",
    "        with open(dtypes_path, 'wb') as f:\n",
    "            pickle.dump(df.dtypes, f)\n",
    "    print(f'Size: {round(sys.getsizeof(df) / 1e9, 2)}gb\\nShape: {df.shape}\\nSaved to: {df_path}')\n",
    "\n",
    "\n",
    "\n",
    "def train_model(df, params, model_path, col_tran_path):\n",
    "    X, y=df.drop(['SK_ID_CURR', 'TARGET'], axis=1), df['TARGET']\n",
    "    cat_cols, num_cols=X.select_dtypes(include=['object']).columns, X.select_dtypes('number').columns\n",
    "    ohe=OneHotEncoder(sparse=False, handle_unknown='ignore')\n",
    "    col_tran=ColumnTransformer([\n",
    "        ('cat', ohe, cat_cols),\n",
    "        ('num', 'passthrough', num_cols)\n",
    "    ])\n",
    "    X_train, X_val, y_train, y_val = train_test_split(X, y, test_size=0.15, random_state=52, stratify=y)\n",
    "    X_train=col_tran.fit_transform(X_train)\n",
    "    X_val=col_tran.transform(X_val)\n",
    "    with open(col_tran_path, 'wb') as f:\n",
    "            pickle.dump(col_tran, f)\n",
    "    dtrain=lgb.Dataset(X_train, label=y_train, params={'verbose': -1})\n",
    "    dval=lgb.Dataset(X_val, label=y_val, params={'verbose': -1})\n",
    "    weight=np.count_nonzero(y==0)/np.count_nonzero(y==1)\n",
    "    params['scale_pos_weight']=weight\n",
    "    model=lgb.train(\n",
    "                    params=params,\n",
    "                    train_set=dtrain,\n",
    "                    valid_sets=[dtrain, dval],\n",
    "                    valid_names=['train', 'test'],\n",
    "                    callbacks=[lgb.early_stopping(100, verbose=-1)],\n",
    "                    verbose_eval=False\n",
    "                    )\n",
    "    model.save_model(model_path)\n",
    "    \n",
    "    return f'Model is saved in {model_path}'\n",
    "\n",
    "\n",
    "\n",
    "def make_prediction(X, model_path, col_tran_path, save_path=None):\n",
    "    with open(col_tran_path, 'rb') as f:\n",
    "        col_tran=pickle.load(f)\n",
    "    model=lgb.Booster(model_file=model_path)\n",
    "    pred=model.predict(col_tran.transform(X.drop('SK_ID_CURR', axis=1)))\n",
    "    if save_path:\n",
    "        submit=X[['SK_ID_CURR']]\n",
    "        submit.loc[:, 'TARGET']=pred\n",
    "        submit.to_csv(save_path, index=False)\n",
    "        return submit\n",
    "    return pred\n",
    "\n",
    "\n",
    "\n",
    "def timer():\n",
    "    print(f'Current time: {datetime.now().strftime(\"%H:%M:%S\")}')\n",
    "\n",
    "\n",
    "\n",
    "def read_sample(data, nrows=None):\n",
    "    s=data.to_json(orient='records')\n",
    "    s=json.loads(s)\n",
    "    return s\n",
    "\n",
    "\n",
    "\n",
    "def predict_api(data, dtypes_path, model_path, ohe_path):\n",
    "    with open(ohe_path, 'rb') as f:\n",
    "        ohe=pickle.load(f)\n",
    "    model=lgb.Booster(model_file=model_path)\n",
    "    df=pd.DataFrame([data])\n",
    "    pred=model.predict(ohe.transform(df.drop('SK_ID_CURR', axis=1)))\n",
    "    return pred[0]"
   ]
  },
  {
   "cell_type": "code",
   "execution_count": 3,
   "id": "e6e34e8d",
   "metadata": {},
   "outputs": [],
   "source": [
    "PATH_DICT={\n",
    "    'application_train': '../data/application_train.csv',\n",
    "    'application_test': '../data/application_test.csv',\n",
    "    'bur': '../data/bureau.csv',\n",
    "    'bb': '../data/bureau_balance.csv',\n",
    "    'previous': '../data/previous_application.csv',\n",
    "    'cash': '../data/POS_CASH_balance.csv',\n",
    "    'installments': '../data/installments_payments.csv',\n",
    "    'card_balance': '../data/credit_card_balance.csv',\n",
    "    'ohe_dict': '../models/pipeline/ohe_dict.pkl',\n",
    "    'corr_matrix': '../data/corr_matrix.csv',\n",
    "    'missing_columns_drop': '../models/pipeline/missing_columns_drop.pkl',\n",
    "    'zero_variance_drop': '../models/pipeline/zero_var_columns_drop.pkl',\n",
    "    'zero_imp_drop': '../models/pipeline/zero_imp.pkl',\n",
    "    'model_file': '../models/model.txt',\n",
    "    'lgb_ohe': '../models/pipeline/lgb_ohe.pkl',\n",
    "    'train_ready_file': '../data/train_ready.csv',\n",
    "    'test_ready_file': '../data/test_ready.csv',\n",
    "    'dtypes': '../models/pipeline/dtypes.pkl',\n",
    "    'submit': '../data/submit.csv',\n",
    "    }"
   ]
  },
  {
   "cell_type": "code",
   "execution_count": 5,
   "id": "6f78889f",
   "metadata": {
    "scrolled": true
   },
   "outputs": [
    {
     "name": "stdout",
     "output_type": "stream",
     "text": [
      "Application data shape: (307511, 122)\n",
      "After adding features: (307511, 166)\n",
      "Bureau shape: (1716428, 17)\n",
      "Bureau balance shape: (27299925, 3)\n",
      "Dataset:bureau_balance\n",
      "\tBefore: 2 numeric cols\n",
      "\tAfter: 5\n",
      "Dataset:bureau_balance\n",
      "\tBefore: 1 categorical cols\n",
      "\tAfter: 16\n",
      "Dataset:loan\n",
      "\tBefore: 22 numeric cols\n",
      "\tAfter: 85\n",
      "Dataset:bureau\n",
      "\tBefore: 3 categorical cols\n",
      "\tAfter: 46\n",
      "Dataset:bureau\n",
      "\tBefore: 13 numeric cols\n",
      "\tAfter: 56\n",
      "Previous shape: (1670214, 37)\n",
      "Dataset:previous\n",
      "\tBefore: 16 categorical cols\n",
      "\tAfter: 286\n",
      "Dataset:previous\n",
      "\tBefore: 19 numeric cols\n",
      "\tAfter: 85\n",
      "Cash shape: (10001358, 8)\n",
      "Dataset:cash\n",
      "\tBefore: 1 categorical cols\n",
      "\tAfter: 18\n",
      "Dataset:cash\n",
      "\tBefore: 6 numeric cols\n",
      "\tAfter: 23\n",
      "Dataset:loan\n",
      "\tBefore: 42 numeric cols\n",
      "\tAfter: 162\n",
      "Installments shape: (13605401, 8)\n",
      "Dataset:inst\n",
      "\tBefore: 7 numeric cols\n",
      "\tAfter: 26\n",
      "Dataset:loan\n",
      "\tBefore: 27 numeric cols\n",
      "\tAfter: 106\n",
      "Card Balance shape: (3840312, 23)\n",
      "Dataset:card\n",
      "\tBefore: 1 categorical cols\n",
      "\tAfter: 14\n",
      "Dataset:card\n",
      "\tBefore: 21 numeric cols\n",
      "\tAfter: 83\n",
      "Dataset:loan\n",
      "\tBefore: 98 numeric cols\n",
      "\tAfter: 376\n"
     ]
    },
    {
     "data": {
      "text/plain": [
       "(307511, 1368)"
      ]
     },
     "execution_count": 5,
     "metadata": {},
     "output_type": "execute_result"
    }
   ],
   "source": [
    "\n",
    "train=full_df(PATH_DICT, mode='train')\n",
    "train.shape"
   ]
  },
  {
   "cell_type": "code",
   "execution_count": 8,
   "id": "21143824",
   "metadata": {
    "scrolled": true
   },
   "outputs": [
    {
     "name": "stdout",
     "output_type": "stream",
     "text": [
      "Application data shape: (48744, 121)\n",
      "After adding features: (48744, 165)\n",
      "Bureau shape: (1716428, 17)\n",
      "Bureau balance shape: (27299925, 3)\n",
      "Dataset:bureau_balance\n",
      "\tBefore: 2 numeric cols\n",
      "\tAfter: 5\n",
      "Dataset:bureau_balance\n",
      "\tBefore: 1 categorical cols\n",
      "\tAfter: 16\n",
      "Dataset:loan\n",
      "\tBefore: 22 numeric cols\n",
      "\tAfter: 85\n",
      "Dataset:bureau\n",
      "\tBefore: 3 categorical cols\n",
      "\tAfter: 46\n",
      "Dataset:bureau\n",
      "\tBefore: 13 numeric cols\n",
      "\tAfter: 56\n",
      "Previous shape: (1670214, 37)\n",
      "Dataset:previous\n",
      "\tBefore: 16 categorical cols\n",
      "\tAfter: 286\n",
      "Dataset:previous\n",
      "\tBefore: 19 numeric cols\n",
      "\tAfter: 85\n",
      "Cash shape: (10001358, 8)\n",
      "Dataset:cash\n",
      "\tBefore: 1 categorical cols\n",
      "\tAfter: 18\n",
      "Dataset:cash\n",
      "\tBefore: 6 numeric cols\n",
      "\tAfter: 23\n",
      "Dataset:loan\n",
      "\tBefore: 42 numeric cols\n",
      "\tAfter: 162\n",
      "Installments shape: (13605401, 8)\n",
      "Dataset:inst\n",
      "\tBefore: 7 numeric cols\n",
      "\tAfter: 26\n",
      "Dataset:loan\n",
      "\tBefore: 27 numeric cols\n",
      "\tAfter: 106\n",
      "Card Balance shape: (3840312, 23)\n",
      "Dataset:card\n",
      "\tBefore: 1 categorical cols\n",
      "\tAfter: 14\n",
      "Dataset:card\n",
      "\tBefore: 21 numeric cols\n",
      "\tAfter: 83\n",
      "Dataset:loan\n",
      "\tBefore: 98 numeric cols\n",
      "\tAfter: 376\n"
     ]
    },
    {
     "data": {
      "text/plain": [
       "(48744, 1367)"
      ]
     },
     "execution_count": 8,
     "metadata": {},
     "output_type": "execute_result"
    }
   ],
   "source": [
    "test=full_df(PATH_DICT, mode='test')\n",
    "test.shape"
   ]
  },
  {
   "cell_type": "code",
   "execution_count": 9,
   "id": "1f24af8a",
   "metadata": {},
   "outputs": [
    {
     "data": {
      "text/plain": [
       "{'TARGET'}"
      ]
     },
     "execution_count": 9,
     "metadata": {},
     "output_type": "execute_result"
    }
   ],
   "source": [
    "set(train.columns)-set(test.columns)"
   ]
  },
  {
   "cell_type": "code",
   "execution_count": 6,
   "id": "7563fe10",
   "metadata": {},
   "outputs": [],
   "source": [
    "# def quick_cv(df):\n",
    "#     X, y=df.drop(['SK_ID_CURR', 'TARGET'], axis=1), df['TARGET']\n",
    "#     cat_cols, num_cols=X.select_dtypes(include=['category', 'object']).columns, X.select_dtypes('number').columns\n",
    "\n",
    "#     ohe=OneHotEncoder(sparse=False, handle_unknown='ignore')\n",
    "#     col_tr=ColumnTransformer([\n",
    "#         ('cat', ohe, cat_cols),\n",
    "#         ('num', 'passthrough', num_cols)\n",
    "#     ])\n",
    "\n",
    "#     res, importances=custom_lgbm_cv(X, y, col_tr)\n",
    "#     return res, importances"
   ]
  },
  {
   "cell_type": "markdown",
   "id": "a2f90f7c",
   "metadata": {},
   "source": [
    "# Feature Selection"
   ]
  },
  {
   "cell_type": "markdown",
   "id": "74db983a",
   "metadata": {},
   "source": [
    "## Correlation"
   ]
  },
  {
   "cell_type": "code",
   "execution_count": 10,
   "id": "53ed598d",
   "metadata": {},
   "outputs": [],
   "source": [
    "def correlation_filter(df, thresh, corr_path, mode='train'):\n",
    "    if mode=='train':\n",
    "        corr_mat=df.drop(['SK_ID_CURR', 'TARGET'], axis=1).corr().abs()\n",
    "        upper=corr_mat.where(np.triu(np.ones(corr_mat.shape), k=1).astype(np.bool))\n",
    "        upper.to_csv(corr_path, index=False)\n",
    "    elif mode=='test':\n",
    "        upper=pd.read_csv(corr_path)\n",
    "    to_drop=[column for column in upper.columns if any(upper[column]>thresh)]\n",
    "    print(f'Correlation: {len(to_drop)} will be removed')\n",
    "    return df.drop(to_drop, axis=1)"
   ]
  },
  {
   "cell_type": "code",
   "execution_count": 11,
   "id": "8ae749e3",
   "metadata": {},
   "outputs": [
    {
     "name": "stdout",
     "output_type": "stream",
     "text": [
      "Correlation: 619 will be removed\n"
     ]
    },
    {
     "data": {
      "text/plain": [
       "(307511, 749)"
      ]
     },
     "execution_count": 11,
     "metadata": {},
     "output_type": "execute_result"
    }
   ],
   "source": [
    "train=correlation_filter(train, 0.9, '../data/corr_matrix.csv', \n",
    "                         mode='test',\n",
    "#                         mode='train',\n",
    "                        )\n",
    "train.shape"
   ]
  },
  {
   "cell_type": "code",
   "execution_count": 12,
   "id": "2ea72606",
   "metadata": {},
   "outputs": [
    {
     "name": "stdout",
     "output_type": "stream",
     "text": [
      "Correlation: 619 will be removed\n"
     ]
    },
    {
     "data": {
      "text/plain": [
       "(48744, 748)"
      ]
     },
     "execution_count": 12,
     "metadata": {},
     "output_type": "execute_result"
    }
   ],
   "source": [
    "test=correlation_filter(test, 0.9, '../data/corr_matrix.csv', mode='test')\n",
    "test.shape"
   ]
  },
  {
   "cell_type": "code",
   "execution_count": 13,
   "id": "5ec93d65",
   "metadata": {},
   "outputs": [
    {
     "data": {
      "text/plain": [
       "{'TARGET'}"
      ]
     },
     "execution_count": 13,
     "metadata": {},
     "output_type": "execute_result"
    }
   ],
   "source": [
    "set(train.columns)-set(test.columns)"
   ]
  },
  {
   "cell_type": "markdown",
   "id": "55260cfa",
   "metadata": {},
   "source": [
    "## Missing"
   ]
  },
  {
   "cell_type": "code",
   "execution_count": 14,
   "id": "a1ac8ab2",
   "metadata": {},
   "outputs": [],
   "source": [
    "def missing_filter(df, thresh, col_path, mode='train'):\n",
    "    if mode=='train':\n",
    "        mt=miss_table(df)\n",
    "        to_drop=mt.loc[mt['Percent']>thresh].index\n",
    "        with open(col_path, 'wb') as f:\n",
    "            pickle.dump(to_drop, f)\n",
    "    elif mode=='test':\n",
    "        with open(col_path, 'rb') as f:\n",
    "            to_drop=pickle.load(f)\n",
    "    else:\n",
    "        raise Exception(\"Specify mode (train of test) and path\")\n",
    "    print(f'{len(to_drop)} features with {thresh}% of NaNs will be removed')\n",
    "    return df.drop(to_drop, axis=1)"
   ]
  },
  {
   "cell_type": "code",
   "execution_count": 15,
   "id": "9ee8f7e2",
   "metadata": {},
   "outputs": [
    {
     "name": "stdout",
     "output_type": "stream",
     "text": [
      "There are 689/749 columns with missing values\n",
      "Distribution by dtypes:\n",
      "float32    683\n",
      "object       6\n",
      "Name: Dtype, dtype: int64\n",
      "16 features with 80% of NaNs will be removed\n"
     ]
    }
   ],
   "source": [
    "train=missing_filter(train, 80, '../models/pipeline/missing_columns_drop.pkl', 'train',)"
   ]
  },
  {
   "cell_type": "code",
   "execution_count": 16,
   "id": "d32315f0",
   "metadata": {},
   "outputs": [
    {
     "name": "stdout",
     "output_type": "stream",
     "text": [
      "16 features with 80% of NaNs will be removed\n"
     ]
    }
   ],
   "source": [
    "test=missing_filter(test, 80, '../models/pipeline/missing_columns_drop.pkl', 'test')"
   ]
  },
  {
   "cell_type": "code",
   "execution_count": 17,
   "id": "abe64680",
   "metadata": {},
   "outputs": [
    {
     "data": {
      "text/plain": [
       "{'TARGET'}"
      ]
     },
     "execution_count": 17,
     "metadata": {},
     "output_type": "execute_result"
    }
   ],
   "source": [
    "set(train.columns)-set(test.columns)"
   ]
  },
  {
   "cell_type": "markdown",
   "id": "5f29efce",
   "metadata": {},
   "source": [
    "## Zero Variance"
   ]
  },
  {
   "cell_type": "code",
   "execution_count": 18,
   "id": "5d068116",
   "metadata": {},
   "outputs": [],
   "source": [
    "def zero_var_filter(df, col_path, mode='train'):\n",
    "    if mode=='train':\n",
    "        scaler=MinMaxScaler()\n",
    "        numeric_data=df.drop('SK_ID_CURR', axis=1).select_dtypes('number').reset_index(drop=True)\n",
    "        numeric_data.replace([np.inf, -np.inf], np.nan, inplace=True)\n",
    "        for i in numeric_data.columns:\n",
    "            numeric_data[i].fillna(value=numeric_data[i].mean(), inplace=True) #replace NaN with mean of dimension\n",
    "            numeric_data[i]=scaler.fit_transform(numeric_data[i].values.reshape(-1,1)) \n",
    "        vars_df=numeric_data.var()\n",
    "        to_drop=vars_df[vars_df==0].index\n",
    "        with open(col_path, 'wb') as f:\n",
    "            pickle.dump(to_drop, f)\n",
    "    \n",
    "    elif mode=='test':\n",
    "        with open(col_path, 'rb') as f:\n",
    "            to_drop=pickle.load(f)\n",
    "    else:\n",
    "        raise Exception(\"Specify mode (train of test) and path\")\n",
    "    print(f'{len(to_drop)} features with zero variance will be removed')\n",
    "    return df.drop(to_drop, axis=1)"
   ]
  },
  {
   "cell_type": "code",
   "execution_count": 19,
   "id": "06ce766e",
   "metadata": {},
   "outputs": [
    {
     "name": "stdout",
     "output_type": "stream",
     "text": [
      "5 features with zero variance will be removed\n"
     ]
    }
   ],
   "source": [
    "train=zero_var_filter(train, '../models/pipeline/zero_var_columns_drop.pkl', 'test')"
   ]
  },
  {
   "cell_type": "code",
   "execution_count": 20,
   "id": "c44b0aa9",
   "metadata": {},
   "outputs": [
    {
     "name": "stdout",
     "output_type": "stream",
     "text": [
      "5 features with zero variance will be removed\n"
     ]
    }
   ],
   "source": [
    "test=zero_var_filter(test, '../models/pipeline/zero_var_columns_drop.pkl', 'test')"
   ]
  },
  {
   "cell_type": "code",
   "execution_count": 21,
   "id": "6302e29f",
   "metadata": {},
   "outputs": [
    {
     "data": {
      "text/plain": [
       "{'TARGET'}"
      ]
     },
     "execution_count": 21,
     "metadata": {},
     "output_type": "execute_result"
    }
   ],
   "source": [
    "set(train.columns)-set(test.columns)"
   ]
  },
  {
   "cell_type": "markdown",
   "id": "b9a89184",
   "metadata": {},
   "source": [
    "## Zero Feature Importance"
   ]
  },
  {
   "cell_type": "code",
   "execution_count": 22,
   "id": "73aba613",
   "metadata": {},
   "outputs": [],
   "source": [
    "def feat_imp_cv(df, feat_imp_path, k=5, params=None, mode='train'):\n",
    "    if mode=='train':\n",
    "        for c in df:\n",
    "            if (df[c].dtype=='object') and (df[c].nunique()<df.shape[0]):\n",
    "                df[c]=df[c].astype('category')\n",
    "        X, y=df.drop(['SK_ID_CURR', 'TARGET'], axis=1), df['TARGET']\n",
    "        feat_importances_gain, feat_importances_split=[], []\n",
    "        kfold=StratifiedKFold(k)\n",
    "        for f, (tr, te) in enumerate(kfold.split(X, y=y)):\n",
    "            X_train, y_train=X.iloc[tr, :], y.iloc[tr]\n",
    "            X_test, y_test=X.iloc[te, :], y.iloc[te]\n",
    "            weight=np.count_nonzero(y_train==0)/np.count_nonzero(y_train==1)\n",
    "            params['scale_pos_weight']=weight\n",
    "            dtrain=lgb.Dataset(X_train, label=y_train, params={'verbose': -1})\n",
    "            dval=lgb.Dataset(X_test, label=y_test, params={'verbose': -1})\n",
    "            model=lgb.train(\n",
    "                            params=params,\n",
    "                            train_set=dtrain,\n",
    "                            valid_sets=[dtrain, dval],\n",
    "                            valid_names=['train', 'test'],\n",
    "                            categorical_feature=list(X.select_dtypes(['category']).columns),\n",
    "                            callbacks=[lgb.early_stopping(100, verbose=-1)],\n",
    "                            verbose_eval=False\n",
    "                            )\n",
    "            feat_importances_gain.append(model.feature_importance(importance_type='gain'))\n",
    "            feat_importances_split.append(model.feature_importance(importance_type='split'))\n",
    "            \n",
    "        feat_importances_gain=np.array(feat_importances_gain).mean(axis=0)\n",
    "        feat_importances_split=np.array(feat_importances_split).mean(axis=0)\n",
    "        feat_importances_df=pd.DataFrame({'feature': list(X.columns),\n",
    "                                        'importance (gain)': feat_importances_gain,\n",
    "                                        'importance (split)': feat_importances_split,})\n",
    "        with open(feat_imp_path, 'wb') as f:\n",
    "            pickle.dump(feat_importances_df, f)\n",
    "    \n",
    "    elif mode=='test':\n",
    "        with open(feat_imp_path, 'rb') as f:\n",
    "            feat_importances_df=pickle.load(f)\n",
    "    \n",
    "    else:\n",
    "        raise Exception(\"Specify mode (train of test) and path\")\n",
    "    return feat_importances_df"
   ]
  },
  {
   "cell_type": "code",
   "execution_count": 23,
   "id": "7523243b",
   "metadata": {},
   "outputs": [],
   "source": [
    "def drop_zero_imp(df, feat_imp_path, k=5, params=None, mode='train', drop_by='importance (gain)'):\n",
    "    feature_imp_df=feat_imp_cv(df, feat_imp_path, k, params, mode=mode)\n",
    "    to_drop=feature_imp_df[feature_imp_df[drop_by]==0]['feature'].values\n",
    "    print(f'Num of features with zero importance: {len(to_drop)}')\n",
    "    return df.drop(to_drop, axis=1)"
   ]
  },
  {
   "cell_type": "code",
   "execution_count": 24,
   "id": "79df5f9a",
   "metadata": {},
   "outputs": [
    {
     "name": "stdout",
     "output_type": "stream",
     "text": [
      "Training until validation scores don't improve for 100 rounds\n",
      "Early stopping, best iteration is:\n",
      "[383]\ttrain's auc: 0.87577\ttest's auc: 0.783501\n",
      "Training until validation scores don't improve for 100 rounds\n",
      "Early stopping, best iteration is:\n",
      "[413]\ttrain's auc: 0.879807\ttest's auc: 0.787868\n",
      "Training until validation scores don't improve for 100 rounds\n",
      "Early stopping, best iteration is:\n",
      "[316]\ttrain's auc: 0.865129\ttest's auc: 0.780138\n",
      "Training until validation scores don't improve for 100 rounds\n",
      "Early stopping, best iteration is:\n",
      "[250]\ttrain's auc: 0.851291\ttest's auc: 0.785895\n",
      "Training until validation scores don't improve for 100 rounds\n",
      "Early stopping, best iteration is:\n",
      "[427]\ttrain's auc: 0.881463\ttest's auc: 0.782358\n",
      "Num of features with zero importance: 172\n"
     ]
    }
   ],
   "source": [
    "import re\n",
    "train=train.rename(columns=lambda x:re.sub('[^A-Za-z0-9_]+', '', x))\n",
    "test=test.rename(columns=lambda x:re.sub('[^A-Za-z0-9_]+', '', x))\n",
    "\n",
    "params={'num_boost_round': 10000,\n",
    "        'objective': 'binary',\n",
    "        'metric': 'auc',\n",
    "        'learning_rate': 0.05,\n",
    "        'reg_alpha': 0.1,\n",
    "        'reg_lambda': 0.1,\n",
    "        'subsample': 0.8,\n",
    "        'n_jobs': -1,\n",
    "        'random_state': 5,\n",
    "       'verbose': -1}\n",
    "\n",
    "train=drop_zero_imp(train, '../models/pipeline/zero_imp.pkl', 5, params, 'train')"
   ]
  },
  {
   "cell_type": "code",
   "execution_count": 25,
   "id": "4e6d12bf",
   "metadata": {},
   "outputs": [
    {
     "name": "stdout",
     "output_type": "stream",
     "text": [
      "Num of features with zero importance: 172\n"
     ]
    }
   ],
   "source": [
    "test=drop_zero_imp(test, '../models/pipeline/zero_imp.pkl', 5, params, 'test')"
   ]
  },
  {
   "cell_type": "code",
   "execution_count": 26,
   "id": "ca781f9b",
   "metadata": {},
   "outputs": [
    {
     "data": {
      "text/plain": [
       "{'TARGET'}"
      ]
     },
     "execution_count": 26,
     "metadata": {},
     "output_type": "execute_result"
    }
   ],
   "source": [
    "set(train.columns)-set(test.columns)"
   ]
  },
  {
   "cell_type": "code",
   "execution_count": 27,
   "id": "19da27ec",
   "metadata": {},
   "outputs": [],
   "source": [
    "train.to_csv('../data/train_ready.csv', index=False)\n",
    "test.to_csv('../data/test_ready.csv', index=False)"
   ]
  },
  {
   "cell_type": "markdown",
   "id": "55f10ba9",
   "metadata": {},
   "source": [
    "## Modelling"
   ]
  },
  {
   "cell_type": "code",
   "execution_count": 2,
   "id": "b0e7e8fb",
   "metadata": {},
   "outputs": [],
   "source": [
    "train=convert_types(pd.read_csv('../data/train_ready.csv'))\n",
    "test= convert_types(pd.read_csv('../data/test_ready.csv'))"
   ]
  },
  {
   "cell_type": "code",
   "execution_count": 36,
   "id": "9447e59f",
   "metadata": {},
   "outputs": [],
   "source": [
    "def train_model(df, params, model_path, col_tran_path):\n",
    "    X, y=df.drop(['SK_ID_CURR', 'TARGET'], axis=1), df['TARGET']\n",
    "    cat_cols, num_cols=X.select_dtypes(include=['category', 'object']).columns, X.select_dtypes('number').columns\n",
    "    ohe=OneHotEncoder(sparse=False, handle_unknown='ignore')\n",
    "    col_tran=ColumnTransformer([\n",
    "        ('cat', ohe, cat_cols),\n",
    "        ('num', 'passthrough', num_cols)\n",
    "    ])\n",
    "    X_train, X_val, y_train, y_val = train_test_split(X, y, test_size=0.15, random_state=52, stratify=y)\n",
    "    X_train=col_tran.fit_transform(X_train)\n",
    "    X_val=col_tran.transform(X_val)\n",
    "    with open(col_tran_path, 'wb') as f:\n",
    "            pickle.dump(col_tran, f)\n",
    "    dtrain=lgb.Dataset(X_train, label=y_train, params={'verbose': -1})\n",
    "    dval=lgb.Dataset(X_val, label=y_val, params={'verbose': -1})\n",
    "    weight=np.count_nonzero(y==0)/np.count_nonzero(y==1)\n",
    "    params['scale_pos_weight']=weight\n",
    "    model=lgb.train(\n",
    "                    params=params,\n",
    "                    train_set=dtrain,\n",
    "                    valid_sets=[dtrain, dval],\n",
    "                    valid_names=['train', 'test'],\n",
    "                    callbacks=[lgb.early_stopping(100, verbose=-1)],\n",
    "                    verbose_eval=False\n",
    "                    )\n",
    "    model.save_model(model_path)\n",
    "    \n",
    "    return f'Model is saved in {model_path}'"
   ]
  },
  {
   "cell_type": "code",
   "execution_count": 37,
   "id": "d23d5717",
   "metadata": {},
   "outputs": [
    {
     "name": "stdout",
     "output_type": "stream",
     "text": [
      "Training until validation scores don't improve for 100 rounds\n",
      "Early stopping, best iteration is:\n",
      "[520]\ttrain's auc: 0.883505\ttest's auc: 0.790682\n"
     ]
    },
    {
     "data": {
      "text/plain": [
       "'Model is saved in ../models/model.txt'"
      ]
     },
     "execution_count": 37,
     "metadata": {},
     "output_type": "execute_result"
    }
   ],
   "source": [
    "PARAMS={\n",
    "    'num_boost_round': 10000,\n",
    "    'objective': 'binary',\n",
    "    'metric': 'auc',\n",
    "    'learning_rate': 0.05,\n",
    "    'reg_alpha': 0.1,\n",
    "    'reg_lambda': 0.1,\n",
    "    'subsample': 0.8,\n",
    "    'n_jobs': -1,\n",
    "    'random_state': 5,\n",
    "    'verbose': -1\n",
    "    }\n",
    "\n",
    "train_model(train, PARAMS, PATH_DICT['model_file'], PATH_DICT['lgb_ohe'])"
   ]
  },
  {
   "cell_type": "code",
   "execution_count": 70,
   "id": "6b056e6a",
   "metadata": {},
   "outputs": [],
   "source": [
    "def make_prediction(X, model_path, col_tran_path, save_path=None):\n",
    "    with open(col_tran_path, 'rb') as f:\n",
    "        col_tran=pickle.load(f)\n",
    "    model=lgb.Booster(model_file=model_path)\n",
    "    pred=model.predict(col_tran.transform(X.drop('SK_ID_CURR', axis=1)))\n",
    "    if save_path:\n",
    "        submit=X[['SK_ID_CURR']]\n",
    "        submit.loc[:, 'TARGET']=pred\n",
    "        submit.to_csv(save_path, index=False)\n",
    "        return submit\n",
    "    return pred"
   ]
  },
  {
   "cell_type": "code",
   "execution_count": 76,
   "id": "afb6aaeb",
   "metadata": {},
   "outputs": [
    {
     "name": "stderr",
     "output_type": "stream",
     "text": [
      "C:\\Users\\Akim.Alikhanov\\AppData\\Local\\Temp\\ipykernel_12580\\1287600273.py:8: SettingWithCopyWarning: \n",
      "A value is trying to be set on a copy of a slice from a DataFrame.\n",
      "Try using .loc[row_indexer,col_indexer] = value instead\n",
      "\n",
      "See the caveats in the documentation: https://pandas.pydata.org/pandas-docs/stable/user_guide/indexing.html#returning-a-view-versus-a-copy\n",
      "  submit.loc[:, 'TARGET']=pred\n"
     ]
    },
    {
     "data": {
      "text/html": [
       "<div>\n",
       "<style scoped>\n",
       "    .dataframe tbody tr th:only-of-type {\n",
       "        vertical-align: middle;\n",
       "    }\n",
       "\n",
       "    .dataframe tbody tr th {\n",
       "        vertical-align: top;\n",
       "    }\n",
       "\n",
       "    .dataframe thead th {\n",
       "        text-align: right;\n",
       "    }\n",
       "</style>\n",
       "<table border=\"1\" class=\"dataframe\">\n",
       "  <thead>\n",
       "    <tr style=\"text-align: right;\">\n",
       "      <th></th>\n",
       "      <th>SK_ID_CURR</th>\n",
       "      <th>TARGET</th>\n",
       "    </tr>\n",
       "  </thead>\n",
       "  <tbody>\n",
       "    <tr>\n",
       "      <th>0</th>\n",
       "      <td>100001</td>\n",
       "      <td>0.1752</td>\n",
       "    </tr>\n",
       "  </tbody>\n",
       "</table>\n",
       "</div>"
      ],
      "text/plain": [
       "  SK_ID_CURR  TARGET\n",
       "0     100001  0.1752"
      ]
     },
     "execution_count": 76,
     "metadata": {},
     "output_type": "execute_result"
    }
   ],
   "source": [
    "make_prediction(test.loc[0].to_frame().T, PATH_DICT['model_file'], PATH_DICT['lgb_ohe'], save_path=PATH_DICT['submit'])"
   ]
  },
  {
   "cell_type": "code",
   "execution_count": 71,
   "id": "1fcbfcf4",
   "metadata": {},
   "outputs": [
    {
     "name": "stderr",
     "output_type": "stream",
     "text": [
      "C:\\Users\\Akim.Alikhanov\\AppData\\Local\\Temp\\ipykernel_12580\\1287600273.py:8: SettingWithCopyWarning: \n",
      "A value is trying to be set on a copy of a slice from a DataFrame.\n",
      "Try using .loc[row_indexer,col_indexer] = value instead\n",
      "\n",
      "See the caveats in the documentation: https://pandas.pydata.org/pandas-docs/stable/user_guide/indexing.html#returning-a-view-versus-a-copy\n",
      "  submit.loc[:, 'TARGET']=pred\n"
     ]
    },
    {
     "data": {
      "text/html": [
       "<div>\n",
       "<style scoped>\n",
       "    .dataframe tbody tr th:only-of-type {\n",
       "        vertical-align: middle;\n",
       "    }\n",
       "\n",
       "    .dataframe tbody tr th {\n",
       "        vertical-align: top;\n",
       "    }\n",
       "\n",
       "    .dataframe thead th {\n",
       "        text-align: right;\n",
       "    }\n",
       "</style>\n",
       "<table border=\"1\" class=\"dataframe\">\n",
       "  <thead>\n",
       "    <tr style=\"text-align: right;\">\n",
       "      <th></th>\n",
       "      <th>SK_ID_CURR</th>\n",
       "      <th>TARGET</th>\n",
       "    </tr>\n",
       "  </thead>\n",
       "  <tbody>\n",
       "    <tr>\n",
       "      <th>0</th>\n",
       "      <td>100001</td>\n",
       "      <td>0.1752</td>\n",
       "    </tr>\n",
       "    <tr>\n",
       "      <th>1</th>\n",
       "      <td>100005</td>\n",
       "      <td>0.6038</td>\n",
       "    </tr>\n",
       "    <tr>\n",
       "      <th>2</th>\n",
       "      <td>100013</td>\n",
       "      <td>0.1104</td>\n",
       "    </tr>\n",
       "    <tr>\n",
       "      <th>3</th>\n",
       "      <td>100028</td>\n",
       "      <td>0.1582</td>\n",
       "    </tr>\n",
       "    <tr>\n",
       "      <th>4</th>\n",
       "      <td>100038</td>\n",
       "      <td>0.7083</td>\n",
       "    </tr>\n",
       "    <tr>\n",
       "      <th>...</th>\n",
       "      <td>...</td>\n",
       "      <td>...</td>\n",
       "    </tr>\n",
       "    <tr>\n",
       "      <th>48739</th>\n",
       "      <td>456221</td>\n",
       "      <td>0.3215</td>\n",
       "    </tr>\n",
       "    <tr>\n",
       "      <th>48740</th>\n",
       "      <td>456222</td>\n",
       "      <td>0.4215</td>\n",
       "    </tr>\n",
       "    <tr>\n",
       "      <th>48741</th>\n",
       "      <td>456223</td>\n",
       "      <td>0.0784</td>\n",
       "    </tr>\n",
       "    <tr>\n",
       "      <th>48742</th>\n",
       "      <td>456224</td>\n",
       "      <td>0.1979</td>\n",
       "    </tr>\n",
       "    <tr>\n",
       "      <th>48743</th>\n",
       "      <td>456250</td>\n",
       "      <td>0.7193</td>\n",
       "    </tr>\n",
       "  </tbody>\n",
       "</table>\n",
       "<p>48744 rows × 2 columns</p>\n",
       "</div>"
      ],
      "text/plain": [
       "       SK_ID_CURR  TARGET\n",
       "0          100001  0.1752\n",
       "1          100005  0.6038\n",
       "2          100013  0.1104\n",
       "3          100028  0.1582\n",
       "4          100038  0.7083\n",
       "...           ...     ...\n",
       "48739      456221  0.3215\n",
       "48740      456222  0.4215\n",
       "48741      456223  0.0784\n",
       "48742      456224  0.1979\n",
       "48743      456250  0.7193\n",
       "\n",
       "[48744 rows x 2 columns]"
      ]
     },
     "execution_count": 71,
     "metadata": {},
     "output_type": "execute_result"
    }
   ],
   "source": [
    "make_prediction(test, PATH_DICT['model_file'], PATH_DICT['lgb_ohe'], save_path=PATH_DICT['submit'])"
   ]
  },
  {
   "cell_type": "code",
   "execution_count": 50,
   "id": "86d72888",
   "metadata": {},
   "outputs": [],
   "source": [
    "df_train, df_test=train_test_split(train, test_size=0.15, random_state=52, stratify=train['TARGET'])"
   ]
  },
  {
   "cell_type": "code",
   "execution_count": 59,
   "id": "4ed70c87",
   "metadata": {},
   "outputs": [
    {
     "name": "stderr",
     "output_type": "stream",
     "text": [
      "C:\\Users\\Akim.Alikhanov\\AppData\\Local\\Temp\\ipykernel_16584\\1863600980.py:4: SettingWithCopyWarning: \n",
      "A value is trying to be set on a copy of a slice from a DataFrame.\n",
      "Try using .loc[row_indexer,col_indexer] = value instead\n",
      "\n",
      "See the caveats in the documentation: https://pandas.pydata.org/pandas-docs/stable/user_guide/indexing.html#returning-a-view-versus-a-copy\n",
      "  submit.loc[:, 'TARGET']=model.predict(X)\n"
     ]
    },
    {
     "data": {
      "text/html": [
       "<div>\n",
       "<style scoped>\n",
       "    .dataframe tbody tr th:only-of-type {\n",
       "        vertical-align: middle;\n",
       "    }\n",
       "\n",
       "    .dataframe tbody tr th {\n",
       "        vertical-align: top;\n",
       "    }\n",
       "\n",
       "    .dataframe thead th {\n",
       "        text-align: right;\n",
       "    }\n",
       "</style>\n",
       "<table border=\"1\" class=\"dataframe\">\n",
       "  <thead>\n",
       "    <tr style=\"text-align: right;\">\n",
       "      <th></th>\n",
       "      <th>SK_ID_CURR</th>\n",
       "      <th>TARGET</th>\n",
       "    </tr>\n",
       "  </thead>\n",
       "  <tbody>\n",
       "    <tr>\n",
       "      <th>0</th>\n",
       "      <td>100001</td>\n",
       "      <td>0.2547</td>\n",
       "    </tr>\n",
       "    <tr>\n",
       "      <th>1</th>\n",
       "      <td>100005</td>\n",
       "      <td>0.5834</td>\n",
       "    </tr>\n",
       "    <tr>\n",
       "      <th>2</th>\n",
       "      <td>100013</td>\n",
       "      <td>0.2775</td>\n",
       "    </tr>\n",
       "    <tr>\n",
       "      <th>3</th>\n",
       "      <td>100028</td>\n",
       "      <td>0.2430</td>\n",
       "    </tr>\n",
       "    <tr>\n",
       "      <th>4</th>\n",
       "      <td>100038</td>\n",
       "      <td>0.6866</td>\n",
       "    </tr>\n",
       "    <tr>\n",
       "      <th>...</th>\n",
       "      <td>...</td>\n",
       "      <td>...</td>\n",
       "    </tr>\n",
       "    <tr>\n",
       "      <th>48739</th>\n",
       "      <td>456221</td>\n",
       "      <td>0.3735</td>\n",
       "    </tr>\n",
       "    <tr>\n",
       "      <th>48740</th>\n",
       "      <td>456222</td>\n",
       "      <td>0.3706</td>\n",
       "    </tr>\n",
       "    <tr>\n",
       "      <th>48741</th>\n",
       "      <td>456223</td>\n",
       "      <td>0.0716</td>\n",
       "    </tr>\n",
       "    <tr>\n",
       "      <th>48742</th>\n",
       "      <td>456224</td>\n",
       "      <td>0.3177</td>\n",
       "    </tr>\n",
       "    <tr>\n",
       "      <th>48743</th>\n",
       "      <td>456250</td>\n",
       "      <td>0.6848</td>\n",
       "    </tr>\n",
       "  </tbody>\n",
       "</table>\n",
       "<p>48744 rows × 2 columns</p>\n",
       "</div>"
      ],
      "text/plain": [
       "       SK_ID_CURR  TARGET\n",
       "0          100001  0.2547\n",
       "1          100005  0.5834\n",
       "2          100013  0.2775\n",
       "3          100028  0.2430\n",
       "4          100038  0.6866\n",
       "...           ...     ...\n",
       "48739      456221  0.3735\n",
       "48740      456222  0.3706\n",
       "48741      456223  0.0716\n",
       "48742      456224  0.3177\n",
       "48743      456250  0.6848\n",
       "\n",
       "[48744 rows x 2 columns]"
      ]
     },
     "execution_count": 59,
     "metadata": {},
     "output_type": "execute_result"
    }
   ],
   "source": [
    "pred=make_prediction(test, '../models/model.txt', '../data/submit.csv')\n",
    "pred"
   ]
  },
  {
   "cell_type": "code",
   "execution_count": 32,
   "id": "8f9ebcb0",
   "metadata": {},
   "outputs": [],
   "source": [
    "def conf_matrix(y_true, y_pred):    \n",
    "    # Creating a confusion matrix\n",
    "    con_mat = confusion_matrix(y_true, y_pred)\n",
    "    group_counts = ['{0:0.0f}'.format(value) for value in\n",
    "                con_mat.flatten()]\n",
    "    group_percentages = ['{0:.2%}'.format(value) for value in\n",
    "                         con_mat.flatten()/np.sum(con_mat)]\n",
    "    labels = [f'{v1}\\n{v2}' for v1, v2 in\n",
    "              zip(group_counts,group_percentages)]\n",
    "    labels = np.asarray(labels).reshape(2,2)\n",
    "    #Ploting the confusion matrix\n",
    "    plt.figure(figsize=(3, 3))\n",
    "    sns.set(font_scale=1.5) \n",
    "    plt.title(\"Confusion Matrix\")\n",
    "    s=sns.heatmap(con_mat, annot=labels, annot_kws={\"size\": 16}, fmt='', cmap='Blues', cbar=False)\n",
    "    s.set(ylabel='True', xlabel='Pred')\n",
    "    plt.show()"
   ]
  },
  {
   "cell_type": "code",
   "execution_count": 33,
   "id": "92296ecb",
   "metadata": {},
   "outputs": [
    {
     "data": {
      "image/png": "[encoded data removed]",
      "text/plain": [
       "<Figure size 300x300 with 1 Axes>"
      ]
     },
     "metadata": {},
     "output_type": "display_data"
    }
   ],
   "source": [
    "conf_matrix(y_test, np.where(pred>=0.60, 1, 0))"
   ]
  },
  {
   "cell_type": "code",
   "execution_count": 44,
   "id": "c6e869f7",
   "metadata": {},
   "outputs": [
    {
     "data": {
      "text/plain": [
       "2273"
      ]
     },
     "execution_count": 44,
     "metadata": {},
     "output_type": "execute_result"
    }
   ],
   "source": [
    "# gc.enable()\n",
    "# del train, test\n",
    "# gc.collect()"
   ]
  },
  {
   "cell_type": "code",
   "execution_count": 63,
   "id": "41eae350",
   "metadata": {},
   "outputs": [
    {
     "data": {
      "text/plain": [
       "1.5"
      ]
     },
     "execution_count": 63,
     "metadata": {},
     "output_type": "execute_result"
    }
   ],
   "source": [
    "a=np.array([1,1,4,4])\n",
    "np.std(a)"
   ]
  },
  {
   "cell_type": "markdown",
   "id": "c0463811",
   "metadata": {},
   "source": [
    "## Get Samples"
   ]
  },
  {
   "cell_type": "code",
   "execution_count": 12,
   "id": "90d6d3eb",
   "metadata": {},
   "outputs": [
    {
     "name": "stdout",
     "output_type": "stream",
     "text": [
      "app: (1, 121)\n",
      "bur: (3, 17)\n",
      "bb: (21, 3)\n",
      "prev: (2, 37)\n",
      "inst: (9, 8)\n",
      "cash: (11, 8)\n",
      "card: (0, 23)\n"
     ]
    }
   ],
   "source": [
    "def create_sample(client_id, path_dict, save_dict):\n",
    "    app=pd.read_csv(path_dict['application_test'])\n",
    "    client_app=app.loc[app['SK_ID_CURR']==client_id, :].astype(app.dtypes)\n",
    "    client_app.to_csv(save_dict['application_test'], index=False)\n",
    "    print(f'app: {client_app.shape}')\n",
    "    gc.enable(); del app, client_app; gc.collect()\n",
    "\n",
    "    bur=pd.read_csv(path_dict['bur'])\n",
    "    client_bur=bur.loc[bur['SK_ID_CURR']==client_id, :].astype(bur.dtypes)\n",
    "    client_bur.to_csv(save_dict['bur'], index=False)\n",
    "    print(f'bur: {client_bur.shape}')\n",
    "    del bur; gc.collect()\n",
    "\n",
    "    bb=pd.read_csv(path_dict['bb'])\n",
    "    client_bb=bb.loc[bb['SK_ID_BUREAU'].isin(client_bur['SK_ID_BUREAU']), :].astype(bb.dtypes)\n",
    "    client_bb.to_csv(save_dict['bb'], index=False)\n",
    "    print(f'bb: {client_bb.shape}')\n",
    "    del bb, client_bb, client_bur; gc.collect()\n",
    "\n",
    "    prev=pd.read_csv(path_dict['previous'])\n",
    "    client_prev=prev.loc[prev['SK_ID_CURR']==client_id, :].astype(prev.dtypes)\n",
    "    client_prev.to_csv(save_dict['previous'], index=False)\n",
    "    print(f'prev: {client_prev.shape}')\n",
    "    del prev, client_prev; gc.collect()\n",
    "    \n",
    "    inst=pd.read_csv(config.PATH_DICT['installments'])\n",
    "    client_inst=inst.loc[inst['SK_ID_CURR']==client_id, :].astype(inst.dtypes)\n",
    "    client_inst.to_csv(save_dict['installments'], index=False)\n",
    "    print(f'inst: {client_inst.shape}')\n",
    "    del inst, client_inst; gc.collect()\n",
    "\n",
    "    cash=pd.read_csv(config.PATH_DICT['cash'])\n",
    "    client_cash=cash.loc[cash['SK_ID_CURR']==client_id, :].astype(cash.dtypes)\n",
    "    client_cash.to_csv(save_dict['cash'], index=False)\n",
    "    print(f'cash: {client_cash.shape}')\n",
    "    del cash, client_cash; gc.collect()\n",
    "\n",
    "    card=pd.read_csv(config.PATH_DICT['card_balance'])\n",
    "    client_card=card.loc[card['SK_ID_CURR']==client_id, :].astype(card.dtypes)\n",
    "    client_card.to_csv(save_dict['card_balance'], index=False)\n",
    "    print(f'card: {client_card.shape}')\n",
    "    del card, client_card; gc.collect()\n",
    "\n",
    "create_sample(100005, config.PATH_DICT, config.SAMPLES_DICT)"
   ]
  },
  {
   "cell_type": "code",
   "execution_count": 18,
   "id": "6a65c7d3",
   "metadata": {},
   "outputs": [
    {
     "data": {
      "text/plain": [
       "Index(['SK_ID_PREV', 'SK_ID_CURR', 'MONTHS_BALANCE', 'CNT_INSTALMENT',\n",
       "       'CNT_INSTALMENT_FUTURE', 'NAME_CONTRACT_STATUS', 'SK_DPD',\n",
       "       'SK_DPD_DEF'],\n",
       "      dtype='object')"
      ]
     },
     "execution_count": 18,
     "metadata": {},
     "output_type": "execute_result"
    }
   ],
   "source": [
    "pd.read_csv('../data/samples/cash_sample.csv').columns"
   ]
  },
  {
   "cell_type": "code",
   "execution_count": null,
   "id": "0f8d2eb1",
   "metadata": {},
   "outputs": [],
   "source": []
  },
  {
   "cell_type": "code",
   "execution_count": 2,
   "id": "65a998bd",
   "metadata": {},
   "outputs": [
    {
     "name": "stdout",
     "output_type": "stream",
     "text": [
      "application_train\n",
      "bur\n",
      "bb\n",
      "previous\n",
      "cash\n",
      "installments\n",
      "card_balance\n"
     ]
    },
    {
     "data": {
      "text/plain": [
       "'All datatypes saved to ../models/pipeline/sample_dtypes_dict.pkl'"
      ]
     },
     "execution_count": 2,
     "metadata": {},
     "output_type": "execute_result"
    }
   ],
   "source": [
    "def save_dtypes(df_names, path_dict, sample_dtypes_path):\n",
    "    sample_dtypes_dict={}\n",
    "    for i in df_names:\n",
    "        print(i)\n",
    "        df=pd.read_csv(path_dict[i])\n",
    "        sample_dtypes_dict[i]=df.dtypes\n",
    "    with open(sample_dtypes_path, 'wb') as f:\n",
    "        pickle.dump(sample_dtypes_dict, f)\n",
    "    return f'All datatypes saved to {sample_dtypes_path}'\n",
    "  \n",
    "names=['application_train','bur','bb','previous','cash','installments','card_balance']\n",
    "save_dtypes(names, config.PATH_DICT, '../models/pipeline/sample_dtypes_dict.pkl')"
   ]
  },
  {
   "cell_type": "code",
   "execution_count": 2,
   "id": "d5862d13",
   "metadata": {},
   "outputs": [],
   "source": [
    "def full_sample(client_id, samples_dict, path_dict, sample_dtypes_path):\n",
    "    with open(path_dict['ohe_dict'], 'rb') as f:\n",
    "        ohe_dict=pickle.load(f)\n",
    "        \n",
    "    with open(sample_dtypes_path, 'rb') as f:\n",
    "        orig_dtypes_dict=pickle.load(f)\n",
    "        \n",
    "    app=application_data(samples_dict['application_test']).astype(orig_dtypes_dict['application_train'].drop('TARGET'))\n",
    "    client_id=app['SK_ID_CURR'].values[0]\n",
    "    try:\n",
    "        bur, bb, _, _=bureau_and_bb(samples_dict['bur'], \n",
    "                                    samples_dict['bb'], \n",
    "                                    bur_ohe=ohe_dict['Bureau_OHE'], \n",
    "                                    bb_ohe=ohe_dict['BB_OHE'],\n",
    "                                    remove_dup=False, sample=[orig_dtypes_dict['bur'], orig_dtypes_dict['bb']])\n",
    "        bur.rename(columns=lambda s: s.replace(\" \", \"\"), inplace=True)\n",
    "        bb.rename(columns=lambda s: s.replace(\" \", \"\"), inplace=True)\n",
    "        app=app.merge(bur, on='SK_ID_CURR', how='left')\n",
    "        del bur; gc.collect()\n",
    "        app=app.merge(bb, on='SK_ID_CURR', how='left')\n",
    "        del bb; gc.collect()\n",
    "    except ValueError as e:\n",
    "        print(f'{e}')\n",
    "       \n",
    "    \n",
    "    try:\n",
    "        prev, _=previous(samples_dict['previous'], prev_ohe=ohe_dict['Prev_OHE'], remove_dup=False, sample=orig_dtypes_dict['previous'])\n",
    "    except ValueError as e:\n",
    "        with open(path_dict['prev_temp'], 'rb') as f:\n",
    "            prev=pickle.load(f)\n",
    "        prev['SK_ID_CURR']=client_id\n",
    "    for i in [' ', '-', ':', ')', '(', '+', '/', ',']:\n",
    "        prev.rename(columns=lambda s: s.replace(i, \"\"), inplace=True)\n",
    "    app=app.merge(prev, on='SK_ID_CURR', how='left')\n",
    "    del prev; gc.collect()\n",
    "      \n",
    "    \n",
    "    try:\n",
    "        cash, _=pos_cash(samples_dict['cash'], cash_ohe=ohe_dict['Cash_OHE'], remove_dup=False, sample=orig_dtypes_dict['cash'])\n",
    "    except ValueError as e:\n",
    "        with open(path_dict['cash_temp'], 'rb') as f:\n",
    "            cash=pickle.load(f)\n",
    "        cash['SK_ID_CURR']=client_id\n",
    "    cash.rename(columns=lambda s: s.replace(\" \", \"\"), inplace=True)\n",
    "    app=app.merge(cash, on='SK_ID_CURR', how='left')\n",
    "    del cash; gc.collect()\n",
    "      \n",
    "    \n",
    "    try:\n",
    "        inst=installments(samples_dict['installments'], remove_dup=False, sample=orig_dtypes_dict['installments'])\n",
    "    except ValueError as e:\n",
    "        with open(path_dict['inst_temp'], 'rb') as f:\n",
    "            inst=pickle.load(f)\n",
    "        inst['SK_ID_CURR']=client_id\n",
    "    inst.rename(columns=lambda s: s.replace(\" \", \"\"), inplace=True)\n",
    "    app=app.merge(inst, on='SK_ID_CURR', how='left')\n",
    "    del inst; gc.collect()\n",
    "    \n",
    "    \n",
    "    try:    \n",
    "        card_b, _=card_balance(samples_dict['card_balance'], card_ohe=ohe_dict['Card_OHE'], \n",
    "                              remove_dup=False, sample=orig_dtypes_dict['card_balance'])\n",
    "    except ValueError as e:\n",
    "        with open(path_dict['card_temp'], 'rb') as f:\n",
    "            card_b=pickle.load(f)\n",
    "        card_b['SK_ID_CURR']=client_id\n",
    "        \n",
    "    card_b.rename(columns=lambda s: s.replace(\" \", \"\"), inplace=True)\n",
    "    app=app.merge(card_b, on='SK_ID_CURR', how='left')\n",
    "    del card_b; gc.collect()\n",
    "    \n",
    "    with open(path_dict['dtypes'], 'rb') as f:\n",
    "        final_dtypes=pickle.load(f)\n",
    "        \n",
    "    return app[final_dtypes.drop('TARGET').index]\n"
   ]
  },
  {
   "cell_type": "code",
   "execution_count": 10,
   "id": "8b08ca33",
   "metadata": {},
   "outputs": [
    {
     "data": {
      "text/plain": [
       "{'application_test': '../data/clients/100001/application.csv',\n",
       " 'bur': '../data/clients/100001/bureau.csv',\n",
       " 'bb': '../data/clients/100001/bureau_balance.csv',\n",
       " 'previous': '../data/clients/100001/previous_app.csv',\n",
       " 'cash': '../data/clients/100001/cash.csv',\n",
       " 'installments': '../data/clients/100001/installments.csv',\n",
       " 'card_balance': '../data/clients/100001/card.csv'}"
      ]
     },
     "execution_count": 10,
     "metadata": {},
     "output_type": "execute_result"
    }
   ],
   "source": [
    "aaa=dict(zip(config.SAMPLES_DICT.keys(), [f'../data/clients/{100001}/'+dir_ for dir_ in config.CLIENT_FILENAMES]))\n",
    "aaa"
   ]
  },
  {
   "cell_type": "code",
   "execution_count": 11,
   "id": "e2d42c24",
   "metadata": {
    "scrolled": true
   },
   "outputs": [
    {
     "name": "stdout",
     "output_type": "stream",
     "text": [
      "Application data shape: (1, 121)\n",
      "After adding features: (1, 165)\n",
      "Bureau shape: (7, 17)\n",
      "Bureau balance shape: (172, 3)\n",
      "Dataset:bureau_balance\n",
      "\tBefore: 2 numeric cols\n",
      "\tAfter: 5\n",
      "Dataset:bureau_balance\n",
      "\tBefore: 1 categorical cols\n",
      "\tAfter: 16\n",
      "Dataset:loan\n",
      "\tBefore: 22 numeric cols\n",
      "\tAfter: 105\n",
      "Dataset:bureau\n",
      "\tBefore: 3 categorical cols\n",
      "\tAfter: 46\n",
      "Dataset:bureau\n",
      "\tBefore: 13 numeric cols\n",
      "\tAfter: 60\n",
      "Previous shape: (1, 37)\n",
      "Dataset:previous\n",
      "\tBefore: 16 categorical cols\n",
      "\tAfter: 290\n",
      "Dataset:previous\n",
      "\tBefore: 20 numeric cols\n",
      "\tAfter: 95\n"
     ]
    },
    {
     "ename": "KeyError",
     "evalue": "\"Only a column name can be used for the key in a dtype mappings argument. 'MONTHS_BALANCE' not found in columns.\"",
     "output_type": "error",
     "traceback": [
      "\u001b[1;31m---------------------------------------------------------------------------\u001b[0m",
      "\u001b[1;31mKeyError\u001b[0m                                  Traceback (most recent call last)",
      "Cell \u001b[1;32mIn [11], line 4\u001b[0m\n\u001b[0;32m      1\u001b[0m \u001b[38;5;28;01mimport\u001b[39;00m \u001b[38;5;21;01mwarnings\u001b[39;00m\n\u001b[0;32m      2\u001b[0m warnings\u001b[38;5;241m.\u001b[39mfilterwarnings(\u001b[38;5;124m'\u001b[39m\u001b[38;5;124mignore\u001b[39m\u001b[38;5;124m'\u001b[39m)\n\u001b[1;32m----> 4\u001b[0m a\u001b[38;5;241m=\u001b[39m\u001b[43mfull_sample\u001b[49m\u001b[43m(\u001b[49m\u001b[38;5;241;43m100001\u001b[39;49m\u001b[43m,\u001b[49m\u001b[43m \u001b[49m\u001b[43maaa\u001b[49m\u001b[43m,\u001b[49m\u001b[43m \u001b[49m\u001b[43mconfig\u001b[49m\u001b[38;5;241;43m.\u001b[39;49m\u001b[43mPATH_DICT\u001b[49m\u001b[43m,\u001b[49m\u001b[43m \u001b[49m\u001b[38;5;124;43m'\u001b[39;49m\u001b[38;5;124;43m../models/pipeline/sample_dtypes_dict.pkl\u001b[39;49m\u001b[38;5;124;43m'\u001b[39;49m\u001b[43m)\u001b[49m\n\u001b[0;32m      5\u001b[0m a\u001b[38;5;241m.\u001b[39mshape\n",
      "Cell \u001b[1;32mIn [2], line 39\u001b[0m, in \u001b[0;36mfull_sample\u001b[1;34m(client_id, samples_dict, path_dict, sample_dtypes_path)\u001b[0m\n\u001b[0;32m     35\u001b[0m \u001b[38;5;28;01mdel\u001b[39;00m prev; gc\u001b[38;5;241m.\u001b[39mcollect()\n\u001b[0;32m     38\u001b[0m \u001b[38;5;28;01mtry\u001b[39;00m:\n\u001b[1;32m---> 39\u001b[0m     cash, _\u001b[38;5;241m=\u001b[39m\u001b[43mpos_cash\u001b[49m\u001b[43m(\u001b[49m\u001b[43msamples_dict\u001b[49m\u001b[43m[\u001b[49m\u001b[38;5;124;43m'\u001b[39;49m\u001b[38;5;124;43mcash\u001b[39;49m\u001b[38;5;124;43m'\u001b[39;49m\u001b[43m]\u001b[49m\u001b[43m,\u001b[49m\u001b[43m \u001b[49m\u001b[43mcash_ohe\u001b[49m\u001b[38;5;241;43m=\u001b[39;49m\u001b[43mohe_dict\u001b[49m\u001b[43m[\u001b[49m\u001b[38;5;124;43m'\u001b[39;49m\u001b[38;5;124;43mCash_OHE\u001b[39;49m\u001b[38;5;124;43m'\u001b[39;49m\u001b[43m]\u001b[49m\u001b[43m,\u001b[49m\u001b[43m \u001b[49m\u001b[43mremove_dup\u001b[49m\u001b[38;5;241;43m=\u001b[39;49m\u001b[38;5;28;43;01mFalse\u001b[39;49;00m\u001b[43m,\u001b[49m\u001b[43m \u001b[49m\u001b[43msample\u001b[49m\u001b[38;5;241;43m=\u001b[39;49m\u001b[43morig_dtypes_dict\u001b[49m\u001b[43m[\u001b[49m\u001b[38;5;124;43m'\u001b[39;49m\u001b[38;5;124;43mcash\u001b[39;49m\u001b[38;5;124;43m'\u001b[39;49m\u001b[43m]\u001b[49m\u001b[43m)\u001b[49m\n\u001b[0;32m     40\u001b[0m \u001b[38;5;28;01mexcept\u001b[39;00m \u001b[38;5;167;01mValueError\u001b[39;00m \u001b[38;5;28;01mas\u001b[39;00m e:\n\u001b[0;32m     41\u001b[0m     \u001b[38;5;28;01mwith\u001b[39;00m \u001b[38;5;28mopen\u001b[39m(path_dict[\u001b[38;5;124m'\u001b[39m\u001b[38;5;124mcash_temp\u001b[39m\u001b[38;5;124m'\u001b[39m], \u001b[38;5;124m'\u001b[39m\u001b[38;5;124mrb\u001b[39m\u001b[38;5;124m'\u001b[39m) \u001b[38;5;28;01mas\u001b[39;00m f:\n",
      "File \u001b[1;32m~\\Desktop\\kaggle\\home_credit_scoring\\notebooks\\../src\\utils.py:300\u001b[0m, in \u001b[0;36mpos_cash\u001b[1;34m(cash_path, enc_mode, cash_ohe, remove_dup, sample, template_path)\u001b[0m\n\u001b[0;32m    298\u001b[0m cash\u001b[38;5;241m=\u001b[39mpd\u001b[38;5;241m.\u001b[39mread_csv(cash_path)\n\u001b[0;32m    299\u001b[0m \u001b[38;5;28;01mif\u001b[39;00m sample \u001b[38;5;129;01mis\u001b[39;00m \u001b[38;5;129;01mnot\u001b[39;00m \u001b[38;5;28;01mNone\u001b[39;00m:\n\u001b[1;32m--> 300\u001b[0m     cash\u001b[38;5;241m=\u001b[39m\u001b[43mcash\u001b[49m\u001b[38;5;241;43m.\u001b[39;49m\u001b[43mastype\u001b[49m\u001b[43m(\u001b[49m\u001b[43msample\u001b[49m\u001b[43m)\u001b[49m\n\u001b[0;32m    301\u001b[0m cash\u001b[38;5;241m=\u001b[39mconvert_types(pd\u001b[38;5;241m.\u001b[39mread_csv(cash_path))\n\u001b[0;32m    302\u001b[0m \u001b[38;5;28mprint\u001b[39m(\u001b[38;5;124mf\u001b[39m\u001b[38;5;124m'\u001b[39m\u001b[38;5;124mCash shape: \u001b[39m\u001b[38;5;132;01m{\u001b[39;00mcash\u001b[38;5;241m.\u001b[39mshape\u001b[38;5;132;01m}\u001b[39;00m\u001b[38;5;124m'\u001b[39m)\n",
      "File \u001b[1;32m~\\Anaconda3\\lib\\site-packages\\pandas\\core\\generic.py:5879\u001b[0m, in \u001b[0;36mNDFrame.astype\u001b[1;34m(self, dtype, copy, errors)\u001b[0m\n\u001b[0;32m   5877\u001b[0m \u001b[38;5;28;01mfor\u001b[39;00m col_name \u001b[38;5;129;01min\u001b[39;00m dtype\u001b[38;5;241m.\u001b[39mkeys():\n\u001b[0;32m   5878\u001b[0m     \u001b[38;5;28;01mif\u001b[39;00m col_name \u001b[38;5;129;01mnot\u001b[39;00m \u001b[38;5;129;01min\u001b[39;00m \u001b[38;5;28mself\u001b[39m:\n\u001b[1;32m-> 5879\u001b[0m         \u001b[38;5;28;01mraise\u001b[39;00m \u001b[38;5;167;01mKeyError\u001b[39;00m(\n\u001b[0;32m   5880\u001b[0m             \u001b[38;5;124m\"\u001b[39m\u001b[38;5;124mOnly a column name can be used for the \u001b[39m\u001b[38;5;124m\"\u001b[39m\n\u001b[0;32m   5881\u001b[0m             \u001b[38;5;124m\"\u001b[39m\u001b[38;5;124mkey in a dtype mappings argument. \u001b[39m\u001b[38;5;124m\"\u001b[39m\n\u001b[0;32m   5882\u001b[0m             \u001b[38;5;124mf\u001b[39m\u001b[38;5;124m\"\u001b[39m\u001b[38;5;124m'\u001b[39m\u001b[38;5;132;01m{\u001b[39;00mcol_name\u001b[38;5;132;01m}\u001b[39;00m\u001b[38;5;124m'\u001b[39m\u001b[38;5;124m not found in columns.\u001b[39m\u001b[38;5;124m\"\u001b[39m\n\u001b[0;32m   5883\u001b[0m         )\n\u001b[0;32m   5885\u001b[0m \u001b[38;5;66;03m# GH#44417 cast to Series so we can use .iat below, which will be\u001b[39;00m\n\u001b[0;32m   5886\u001b[0m \u001b[38;5;66;03m#  robust in case we\u001b[39;00m\n\u001b[0;32m   5887\u001b[0m \u001b[38;5;28;01mfrom\u001b[39;00m \u001b[38;5;21;01mpandas\u001b[39;00m \u001b[38;5;28;01mimport\u001b[39;00m Series\n",
      "\u001b[1;31mKeyError\u001b[0m: \"Only a column name can be used for the key in a dtype mappings argument. 'MONTHS_BALANCE' not found in columns.\""
     ]
    }
   ],
   "source": [
    "import warnings\n",
    "warnings.filterwarnings('ignore')\n",
    "\n",
    "a=full_sample(100001, aaa, config.PATH_DICT, '../models/pipeline/sample_dtypes_dict.pkl')\n",
    "a.shape"
   ]
  },
  {
   "cell_type": "code",
   "execution_count": 34,
   "id": "a2250bfc",
   "metadata": {},
   "outputs": [
    {
     "data": {
      "text/plain": [
       "array([0.57142201])"
      ]
     },
     "execution_count": 34,
     "metadata": {},
     "output_type": "execute_result"
    }
   ],
   "source": [
    "make_prediction(a, config.PATH_DICT['model_file'], config.PATH_DICT['lgb_ohe'])"
   ]
  },
  {
   "cell_type": "code",
   "execution_count": 20,
   "id": "1b1db1c1",
   "metadata": {},
   "outputs": [],
   "source": [
    "with open('../models/pipeline/sample_dtypes_dict.pkl', 'rb') as f:\n",
    "    orig_dtypes=pickle.load(f)"
   ]
  },
  {
   "cell_type": "code",
   "execution_count": 7,
   "id": "656ceb2b",
   "metadata": {},
   "outputs": [
    {
     "data": {
      "text/plain": [
       "{'application_test': '../data/clients/100001/application.csv',\n",
       " 'bur': '../data/clients/100001/bureau.csv',\n",
       " 'bb': '../data/clients/100001/bureau_balance.csv',\n",
       " 'previous': '../data/clients/100001/previous_app.csv',\n",
       " 'cash': '../data/clients/100001/cash.csv',\n",
       " 'installments': '../data/clients/100001/installments.csv',\n",
       " 'card_balance': '../data/clients/100001/card.csv'}"
      ]
     },
     "execution_count": 7,
     "metadata": {},
     "output_type": "execute_result"
    }
   ],
   "source": [
    "dict(zip(config.SAMPLES_DICT.keys(), [f'../data/clients/{100001}/'+dir_ for dir_ in config.CLIENT_FILENAMES]))"
   ]
  },
  {
   "cell_type": "code",
   "execution_count": 24,
   "id": "d2caa258",
   "metadata": {},
   "outputs": [
    {
     "data": {
      "text/html": [
       "<div>\n",
       "<style scoped>\n",
       "    .dataframe tbody tr th:only-of-type {\n",
       "        vertical-align: middle;\n",
       "    }\n",
       "\n",
       "    .dataframe tbody tr th {\n",
       "        vertical-align: top;\n",
       "    }\n",
       "\n",
       "    .dataframe thead th {\n",
       "        text-align: right;\n",
       "    }\n",
       "</style>\n",
       "<table border=\"1\" class=\"dataframe\">\n",
       "  <thead>\n",
       "    <tr style=\"text-align: right;\">\n",
       "      <th></th>\n",
       "      <th>SK_ID_PREV</th>\n",
       "      <th>SK_ID_CURR</th>\n",
       "      <th>MONTHS_BALANCE</th>\n",
       "      <th>CNT_INSTALMENT</th>\n",
       "      <th>CNT_INSTALMENT_FUTURE</th>\n",
       "      <th>NAME_CONTRACT_STATUS</th>\n",
       "      <th>SK_DPD</th>\n",
       "      <th>SK_DPD_DEF</th>\n",
       "    </tr>\n",
       "  </thead>\n",
       "  <tbody>\n",
       "    <tr>\n",
       "      <th>0</th>\n",
       "      <td>1851984</td>\n",
       "      <td>100001</td>\n",
       "      <td>-96</td>\n",
       "      <td>4.0000</td>\n",
       "      <td>2.0000</td>\n",
       "      <td>Active</td>\n",
       "      <td>0</td>\n",
       "      <td>0</td>\n",
       "    </tr>\n",
       "    <tr>\n",
       "      <th>1</th>\n",
       "      <td>1851984</td>\n",
       "      <td>100001</td>\n",
       "      <td>-95</td>\n",
       "      <td>4.0000</td>\n",
       "      <td>1.0000</td>\n",
       "      <td>Active</td>\n",
       "      <td>7</td>\n",
       "      <td>7</td>\n",
       "    </tr>\n",
       "    <tr>\n",
       "      <th>2</th>\n",
       "      <td>1369693</td>\n",
       "      <td>100001</td>\n",
       "      <td>-53</td>\n",
       "      <td>4.0000</td>\n",
       "      <td>0.0000</td>\n",
       "      <td>Completed</td>\n",
       "      <td>0</td>\n",
       "      <td>0</td>\n",
       "    </tr>\n",
       "    <tr>\n",
       "      <th>3</th>\n",
       "      <td>1369693</td>\n",
       "      <td>100001</td>\n",
       "      <td>-54</td>\n",
       "      <td>4.0000</td>\n",
       "      <td>1.0000</td>\n",
       "      <td>Active</td>\n",
       "      <td>0</td>\n",
       "      <td>0</td>\n",
       "    </tr>\n",
       "    <tr>\n",
       "      <th>4</th>\n",
       "      <td>1851984</td>\n",
       "      <td>100001</td>\n",
       "      <td>-93</td>\n",
       "      <td>4.0000</td>\n",
       "      <td>0.0000</td>\n",
       "      <td>Completed</td>\n",
       "      <td>0</td>\n",
       "      <td>0</td>\n",
       "    </tr>\n",
       "    <tr>\n",
       "      <th>5</th>\n",
       "      <td>1369693</td>\n",
       "      <td>100001</td>\n",
       "      <td>-57</td>\n",
       "      <td>4.0000</td>\n",
       "      <td>4.0000</td>\n",
       "      <td>Active</td>\n",
       "      <td>0</td>\n",
       "      <td>0</td>\n",
       "    </tr>\n",
       "    <tr>\n",
       "      <th>6</th>\n",
       "      <td>1369693</td>\n",
       "      <td>100001</td>\n",
       "      <td>-55</td>\n",
       "      <td>4.0000</td>\n",
       "      <td>2.0000</td>\n",
       "      <td>Active</td>\n",
       "      <td>0</td>\n",
       "      <td>0</td>\n",
       "    </tr>\n",
       "    <tr>\n",
       "      <th>7</th>\n",
       "      <td>1851984</td>\n",
       "      <td>100001</td>\n",
       "      <td>-94</td>\n",
       "      <td>4.0000</td>\n",
       "      <td>0.0000</td>\n",
       "      <td>Active</td>\n",
       "      <td>0</td>\n",
       "      <td>0</td>\n",
       "    </tr>\n",
       "    <tr>\n",
       "      <th>8</th>\n",
       "      <td>1369693</td>\n",
       "      <td>100001</td>\n",
       "      <td>-56</td>\n",
       "      <td>4.0000</td>\n",
       "      <td>3.0000</td>\n",
       "      <td>Active</td>\n",
       "      <td>0</td>\n",
       "      <td>0</td>\n",
       "    </tr>\n",
       "  </tbody>\n",
       "</table>\n",
       "</div>"
      ],
      "text/plain": [
       "   SK_ID_PREV  SK_ID_CURR  MONTHS_BALANCE  CNT_INSTALMENT  \\\n",
       "0     1851984      100001             -96          4.0000   \n",
       "1     1851984      100001             -95          4.0000   \n",
       "2     1369693      100001             -53          4.0000   \n",
       "3     1369693      100001             -54          4.0000   \n",
       "4     1851984      100001             -93          4.0000   \n",
       "5     1369693      100001             -57          4.0000   \n",
       "6     1369693      100001             -55          4.0000   \n",
       "7     1851984      100001             -94          4.0000   \n",
       "8     1369693      100001             -56          4.0000   \n",
       "\n",
       "   CNT_INSTALMENT_FUTURE NAME_CONTRACT_STATUS  SK_DPD  SK_DPD_DEF  \n",
       "0                 2.0000               Active       0           0  \n",
       "1                 1.0000               Active       7           7  \n",
       "2                 0.0000            Completed       0           0  \n",
       "3                 1.0000               Active       0           0  \n",
       "4                 0.0000            Completed       0           0  \n",
       "5                 4.0000               Active       0           0  \n",
       "6                 2.0000               Active       0           0  \n",
       "7                 0.0000               Active       0           0  \n",
       "8                 3.0000               Active       0           0  "
      ]
     },
     "execution_count": 24,
     "metadata": {},
     "output_type": "execute_result"
    }
   ],
   "source": [
    "pd.read_csv('../data/clients/100001/cash.csv').astype(orig_dtypes['cash'])"
   ]
  },
  {
   "cell_type": "code",
   "execution_count": null,
   "id": "2c85a83c",
   "metadata": {},
   "outputs": [],
   "source": []
  }
 ],
 "metadata": {
  "kernelspec": {
   "display_name": "Python 3 (ipykernel)",
   "language": "python",
   "name": "python3"
  },
  "language_info": {
   "codemirror_mode": {
    "name": "ipython",
    "version": 3
   },
   "file_extension": ".py",
   "mimetype": "text/x-python",
   "name": "python",
   "nbconvert_exporter": "python",
   "pygments_lexer": "ipython3",
   "version": "3.9.12"
  }
 },
 "nbformat": 4,
 "nbformat_minor": 5
}
